{
 "cells": [
  {
   "cell_type": "markdown",
   "metadata": {},
   "source": [
    "# Exploratory Analysis on Airplane Data"
   ]
  },
  {
   "cell_type": "markdown",
   "metadata": {},
   "source": [
    "### Business Problem\n",
    "\n",
    "Your company is expanding in to new industries to diversify its portfolio. Specifically, they are interested in purchasing and operating airplanes for commercial and private enterprises, but do not know anything about the potential risks of aircraft.\n",
    "\n",
    "You are charged with determining which aircraft are the lowest risk for the company to start this new business endeavor.\n",
    "\n",
    "You must then translate your findings into actionable insights that the head of the new aviation division can use to help decide which aircraft to purchase."
   ]
  },
  {
   "cell_type": "code",
   "execution_count": 1,
   "metadata": {},
   "outputs": [],
   "source": [
    "# Switch to determine whether running the notebook will generate new csvs (and overwrite previous versions) \n",
    "generate_csvs = 1"
   ]
  },
  {
   "cell_type": "code",
   "execution_count": 2,
   "metadata": {},
   "outputs": [],
   "source": [
    "#Import libraries\n",
    "import pandas as pd\n",
    "import warnings\n",
    "import seaborn as sns\n",
    "import matplotlib.pyplot as plt\n",
    "import numpy as np\n",
    "warnings.filterwarnings('ignore')"
   ]
  },
  {
   "cell_type": "markdown",
   "metadata": {},
   "source": [
    "## Preview the Available Data"
   ]
  },
  {
   "cell_type": "code",
   "execution_count": 3,
   "metadata": {},
   "outputs": [
    {
     "name": "stdout",
     "output_type": "stream",
     "text": [
      "Original shape: (90348, 31)\n",
      "Shape after dropping duplicate rows: (88958, 31)\n"
     ]
    },
    {
     "data": {
      "text/html": [
       "<div>\n",
       "<style scoped>\n",
       "    .dataframe tbody tr th:only-of-type {\n",
       "        vertical-align: middle;\n",
       "    }\n",
       "\n",
       "    .dataframe tbody tr th {\n",
       "        vertical-align: top;\n",
       "    }\n",
       "\n",
       "    .dataframe thead th {\n",
       "        text-align: right;\n",
       "    }\n",
       "</style>\n",
       "<table border=\"1\" class=\"dataframe\">\n",
       "  <thead>\n",
       "    <tr style=\"text-align: right;\">\n",
       "      <th></th>\n",
       "      <th>Event.Id</th>\n",
       "      <th>Investigation.Type</th>\n",
       "      <th>Accident.Number</th>\n",
       "      <th>Event.Date</th>\n",
       "      <th>Location</th>\n",
       "      <th>Country</th>\n",
       "      <th>Latitude</th>\n",
       "      <th>Longitude</th>\n",
       "      <th>Airport.Code</th>\n",
       "      <th>Airport.Name</th>\n",
       "      <th>...</th>\n",
       "      <th>Purpose.of.flight</th>\n",
       "      <th>Air.carrier</th>\n",
       "      <th>Total.Fatal.Injuries</th>\n",
       "      <th>Total.Serious.Injuries</th>\n",
       "      <th>Total.Minor.Injuries</th>\n",
       "      <th>Total.Uninjured</th>\n",
       "      <th>Weather.Condition</th>\n",
       "      <th>Broad.phase.of.flight</th>\n",
       "      <th>Report.Status</th>\n",
       "      <th>Publication.Date</th>\n",
       "    </tr>\n",
       "  </thead>\n",
       "  <tbody>\n",
       "    <tr>\n",
       "      <th>0</th>\n",
       "      <td>20001218X45444</td>\n",
       "      <td>Accident</td>\n",
       "      <td>SEA87LA080</td>\n",
       "      <td>1948-10-24</td>\n",
       "      <td>MOOSE CREEK, ID</td>\n",
       "      <td>United States</td>\n",
       "      <td>NaN</td>\n",
       "      <td>NaN</td>\n",
       "      <td>NaN</td>\n",
       "      <td>NaN</td>\n",
       "      <td>...</td>\n",
       "      <td>Personal</td>\n",
       "      <td>NaN</td>\n",
       "      <td>2.0</td>\n",
       "      <td>0.0</td>\n",
       "      <td>0.0</td>\n",
       "      <td>0.0</td>\n",
       "      <td>UNK</td>\n",
       "      <td>Cruise</td>\n",
       "      <td>Probable Cause</td>\n",
       "      <td>NaN</td>\n",
       "    </tr>\n",
       "    <tr>\n",
       "      <th>1</th>\n",
       "      <td>20001218X45447</td>\n",
       "      <td>Accident</td>\n",
       "      <td>LAX94LA336</td>\n",
       "      <td>1962-07-19</td>\n",
       "      <td>BRIDGEPORT, CA</td>\n",
       "      <td>United States</td>\n",
       "      <td>NaN</td>\n",
       "      <td>NaN</td>\n",
       "      <td>NaN</td>\n",
       "      <td>NaN</td>\n",
       "      <td>...</td>\n",
       "      <td>Personal</td>\n",
       "      <td>NaN</td>\n",
       "      <td>4.0</td>\n",
       "      <td>0.0</td>\n",
       "      <td>0.0</td>\n",
       "      <td>0.0</td>\n",
       "      <td>UNK</td>\n",
       "      <td>Unknown</td>\n",
       "      <td>Probable Cause</td>\n",
       "      <td>19-09-1996</td>\n",
       "    </tr>\n",
       "    <tr>\n",
       "      <th>2</th>\n",
       "      <td>20061025X01555</td>\n",
       "      <td>Accident</td>\n",
       "      <td>NYC07LA005</td>\n",
       "      <td>1974-08-30</td>\n",
       "      <td>Saltville, VA</td>\n",
       "      <td>United States</td>\n",
       "      <td>36.9222</td>\n",
       "      <td>-81.8781</td>\n",
       "      <td>NaN</td>\n",
       "      <td>NaN</td>\n",
       "      <td>...</td>\n",
       "      <td>Personal</td>\n",
       "      <td>NaN</td>\n",
       "      <td>3.0</td>\n",
       "      <td>NaN</td>\n",
       "      <td>NaN</td>\n",
       "      <td>NaN</td>\n",
       "      <td>IMC</td>\n",
       "      <td>Cruise</td>\n",
       "      <td>Probable Cause</td>\n",
       "      <td>26-02-2007</td>\n",
       "    </tr>\n",
       "    <tr>\n",
       "      <th>3</th>\n",
       "      <td>20001218X45448</td>\n",
       "      <td>Accident</td>\n",
       "      <td>LAX96LA321</td>\n",
       "      <td>1977-06-19</td>\n",
       "      <td>EUREKA, CA</td>\n",
       "      <td>United States</td>\n",
       "      <td>NaN</td>\n",
       "      <td>NaN</td>\n",
       "      <td>NaN</td>\n",
       "      <td>NaN</td>\n",
       "      <td>...</td>\n",
       "      <td>Personal</td>\n",
       "      <td>NaN</td>\n",
       "      <td>2.0</td>\n",
       "      <td>0.0</td>\n",
       "      <td>0.0</td>\n",
       "      <td>0.0</td>\n",
       "      <td>IMC</td>\n",
       "      <td>Cruise</td>\n",
       "      <td>Probable Cause</td>\n",
       "      <td>12-09-2000</td>\n",
       "    </tr>\n",
       "    <tr>\n",
       "      <th>4</th>\n",
       "      <td>20041105X01764</td>\n",
       "      <td>Accident</td>\n",
       "      <td>CHI79FA064</td>\n",
       "      <td>1979-08-02</td>\n",
       "      <td>Canton, OH</td>\n",
       "      <td>United States</td>\n",
       "      <td>NaN</td>\n",
       "      <td>NaN</td>\n",
       "      <td>NaN</td>\n",
       "      <td>NaN</td>\n",
       "      <td>...</td>\n",
       "      <td>Personal</td>\n",
       "      <td>NaN</td>\n",
       "      <td>1.0</td>\n",
       "      <td>2.0</td>\n",
       "      <td>NaN</td>\n",
       "      <td>0.0</td>\n",
       "      <td>VMC</td>\n",
       "      <td>Approach</td>\n",
       "      <td>Probable Cause</td>\n",
       "      <td>16-04-1980</td>\n",
       "    </tr>\n",
       "  </tbody>\n",
       "</table>\n",
       "<p>5 rows × 31 columns</p>\n",
       "</div>"
      ],
      "text/plain": [
       "         Event.Id Investigation.Type Accident.Number  Event.Date  \\\n",
       "0  20001218X45444           Accident      SEA87LA080  1948-10-24   \n",
       "1  20001218X45447           Accident      LAX94LA336  1962-07-19   \n",
       "2  20061025X01555           Accident      NYC07LA005  1974-08-30   \n",
       "3  20001218X45448           Accident      LAX96LA321  1977-06-19   \n",
       "4  20041105X01764           Accident      CHI79FA064  1979-08-02   \n",
       "\n",
       "          Location        Country Latitude Longitude Airport.Code  \\\n",
       "0  MOOSE CREEK, ID  United States      NaN       NaN          NaN   \n",
       "1   BRIDGEPORT, CA  United States      NaN       NaN          NaN   \n",
       "2    Saltville, VA  United States  36.9222  -81.8781          NaN   \n",
       "3       EUREKA, CA  United States      NaN       NaN          NaN   \n",
       "4       Canton, OH  United States      NaN       NaN          NaN   \n",
       "\n",
       "  Airport.Name  ... Purpose.of.flight Air.carrier Total.Fatal.Injuries  \\\n",
       "0          NaN  ...          Personal         NaN                  2.0   \n",
       "1          NaN  ...          Personal         NaN                  4.0   \n",
       "2          NaN  ...          Personal         NaN                  3.0   \n",
       "3          NaN  ...          Personal         NaN                  2.0   \n",
       "4          NaN  ...          Personal         NaN                  1.0   \n",
       "\n",
       "  Total.Serious.Injuries Total.Minor.Injuries Total.Uninjured  \\\n",
       "0                    0.0                  0.0             0.0   \n",
       "1                    0.0                  0.0             0.0   \n",
       "2                    NaN                  NaN             NaN   \n",
       "3                    0.0                  0.0             0.0   \n",
       "4                    2.0                  NaN             0.0   \n",
       "\n",
       "  Weather.Condition  Broad.phase.of.flight   Report.Status Publication.Date  \n",
       "0               UNK                 Cruise  Probable Cause              NaN  \n",
       "1               UNK                Unknown  Probable Cause       19-09-1996  \n",
       "2               IMC                 Cruise  Probable Cause       26-02-2007  \n",
       "3               IMC                 Cruise  Probable Cause       12-09-2000  \n",
       "4               VMC               Approach  Probable Cause       16-04-1980  \n",
       "\n",
       "[5 rows x 31 columns]"
      ]
     },
     "execution_count": 3,
     "metadata": {},
     "output_type": "execute_result"
    }
   ],
   "source": [
    "#This will be the main DataFrame used to analyze our business problem\n",
    "df = pd.read_csv('data/Aviation_Data.csv')\n",
    "print(f\"Original shape: {df.shape}\")\n",
    "df.drop_duplicates(keep='first', inplace=True)\n",
    "\n",
    "print(f\"Shape after dropping duplicate rows: {df.shape}\")\n",
    "df.head()"
   ]
  },
  {
   "cell_type": "code",
   "execution_count": 4,
   "metadata": {},
   "outputs": [
    {
     "data": {
      "text/html": [
       "<div>\n",
       "<style scoped>\n",
       "    .dataframe tbody tr th:only-of-type {\n",
       "        vertical-align: middle;\n",
       "    }\n",
       "\n",
       "    .dataframe tbody tr th {\n",
       "        vertical-align: top;\n",
       "    }\n",
       "\n",
       "    .dataframe thead th {\n",
       "        text-align: right;\n",
       "    }\n",
       "</style>\n",
       "<table border=\"1\" class=\"dataframe\">\n",
       "  <thead>\n",
       "    <tr style=\"text-align: right;\">\n",
       "      <th></th>\n",
       "      <th>Event.Date</th>\n",
       "      <th>Location</th>\n",
       "      <th>Country</th>\n",
       "      <th>Aircraft.damage</th>\n",
       "      <th>Make</th>\n",
       "      <th>Model</th>\n",
       "      <th>Amateur.Built</th>\n",
       "      <th>Number.of.Engines</th>\n",
       "      <th>Engine.Type</th>\n",
       "      <th>Purpose.of.flight</th>\n",
       "      <th>Total.Fatal.Injuries</th>\n",
       "      <th>Total.Serious.Injuries</th>\n",
       "      <th>Total.Minor.Injuries</th>\n",
       "      <th>Total.Uninjured</th>\n",
       "      <th>Weather.Condition</th>\n",
       "      <th>Aircraft.Category</th>\n",
       "    </tr>\n",
       "  </thead>\n",
       "  <tbody>\n",
       "    <tr>\n",
       "      <th>0</th>\n",
       "      <td>1948-10-24</td>\n",
       "      <td>MOOSE CREEK, ID</td>\n",
       "      <td>United States</td>\n",
       "      <td>Destroyed</td>\n",
       "      <td>Stinson</td>\n",
       "      <td>108-3</td>\n",
       "      <td>No</td>\n",
       "      <td>1.0</td>\n",
       "      <td>Reciprocating</td>\n",
       "      <td>Personal</td>\n",
       "      <td>2.0</td>\n",
       "      <td>0.0</td>\n",
       "      <td>0.0</td>\n",
       "      <td>0.0</td>\n",
       "      <td>UNK</td>\n",
       "      <td>NaN</td>\n",
       "    </tr>\n",
       "    <tr>\n",
       "      <th>1</th>\n",
       "      <td>1962-07-19</td>\n",
       "      <td>BRIDGEPORT, CA</td>\n",
       "      <td>United States</td>\n",
       "      <td>Destroyed</td>\n",
       "      <td>Piper</td>\n",
       "      <td>PA24-180</td>\n",
       "      <td>No</td>\n",
       "      <td>1.0</td>\n",
       "      <td>Reciprocating</td>\n",
       "      <td>Personal</td>\n",
       "      <td>4.0</td>\n",
       "      <td>0.0</td>\n",
       "      <td>0.0</td>\n",
       "      <td>0.0</td>\n",
       "      <td>UNK</td>\n",
       "      <td>NaN</td>\n",
       "    </tr>\n",
       "    <tr>\n",
       "      <th>2</th>\n",
       "      <td>1974-08-30</td>\n",
       "      <td>Saltville, VA</td>\n",
       "      <td>United States</td>\n",
       "      <td>Destroyed</td>\n",
       "      <td>Cessna</td>\n",
       "      <td>172M</td>\n",
       "      <td>No</td>\n",
       "      <td>1.0</td>\n",
       "      <td>Reciprocating</td>\n",
       "      <td>Personal</td>\n",
       "      <td>3.0</td>\n",
       "      <td>NaN</td>\n",
       "      <td>NaN</td>\n",
       "      <td>NaN</td>\n",
       "      <td>IMC</td>\n",
       "      <td>NaN</td>\n",
       "    </tr>\n",
       "    <tr>\n",
       "      <th>3</th>\n",
       "      <td>1977-06-19</td>\n",
       "      <td>EUREKA, CA</td>\n",
       "      <td>United States</td>\n",
       "      <td>Destroyed</td>\n",
       "      <td>Rockwell</td>\n",
       "      <td>112</td>\n",
       "      <td>No</td>\n",
       "      <td>1.0</td>\n",
       "      <td>Reciprocating</td>\n",
       "      <td>Personal</td>\n",
       "      <td>2.0</td>\n",
       "      <td>0.0</td>\n",
       "      <td>0.0</td>\n",
       "      <td>0.0</td>\n",
       "      <td>IMC</td>\n",
       "      <td>NaN</td>\n",
       "    </tr>\n",
       "    <tr>\n",
       "      <th>4</th>\n",
       "      <td>1979-08-02</td>\n",
       "      <td>Canton, OH</td>\n",
       "      <td>United States</td>\n",
       "      <td>Destroyed</td>\n",
       "      <td>Cessna</td>\n",
       "      <td>501</td>\n",
       "      <td>No</td>\n",
       "      <td>NaN</td>\n",
       "      <td>NaN</td>\n",
       "      <td>Personal</td>\n",
       "      <td>1.0</td>\n",
       "      <td>2.0</td>\n",
       "      <td>NaN</td>\n",
       "      <td>0.0</td>\n",
       "      <td>VMC</td>\n",
       "      <td>NaN</td>\n",
       "    </tr>\n",
       "  </tbody>\n",
       "</table>\n",
       "</div>"
      ],
      "text/plain": [
       "   Event.Date         Location        Country Aircraft.damage      Make  \\\n",
       "0  1948-10-24  MOOSE CREEK, ID  United States       Destroyed   Stinson   \n",
       "1  1962-07-19   BRIDGEPORT, CA  United States       Destroyed     Piper   \n",
       "2  1974-08-30    Saltville, VA  United States       Destroyed    Cessna   \n",
       "3  1977-06-19       EUREKA, CA  United States       Destroyed  Rockwell   \n",
       "4  1979-08-02       Canton, OH  United States       Destroyed    Cessna   \n",
       "\n",
       "      Model Amateur.Built  Number.of.Engines    Engine.Type Purpose.of.flight  \\\n",
       "0     108-3            No                1.0  Reciprocating          Personal   \n",
       "1  PA24-180            No                1.0  Reciprocating          Personal   \n",
       "2      172M            No                1.0  Reciprocating          Personal   \n",
       "3       112            No                1.0  Reciprocating          Personal   \n",
       "4       501            No                NaN            NaN          Personal   \n",
       "\n",
       "   Total.Fatal.Injuries  Total.Serious.Injuries  Total.Minor.Injuries  \\\n",
       "0                   2.0                     0.0                   0.0   \n",
       "1                   4.0                     0.0                   0.0   \n",
       "2                   3.0                     NaN                   NaN   \n",
       "3                   2.0                     0.0                   0.0   \n",
       "4                   1.0                     2.0                   NaN   \n",
       "\n",
       "   Total.Uninjured Weather.Condition Aircraft.Category  \n",
       "0              0.0               UNK               NaN  \n",
       "1              0.0               UNK               NaN  \n",
       "2              NaN               IMC               NaN  \n",
       "3              0.0               IMC               NaN  \n",
       "4              0.0               VMC               NaN  "
      ]
     },
     "execution_count": 4,
     "metadata": {},
     "output_type": "execute_result"
    }
   ],
   "source": [
    "#drop columns with more than 20% nans \n",
    "nan_cols = list(df.loc[:,df.isna().sum()/len(df) > .2].columns) \n",
    "\n",
    "#drop uninformative columns\n",
    "nan_cols.extend(['Event.Id', 'Investigation.Type', 'Accident.Number', 'Injury.Severity', 'Registration.Number', 'Report.Status', 'Publication.Date'])\n",
    "\n",
    "# get a list of columns to keep\n",
    "non_nan_cols = [x for x in df.columns if x not in nan_cols]\n",
    "\n",
    "# re-add the aircraft category column for later cleaning\n",
    "non_nan_cols.append('Aircraft.Category')\n",
    "                    \n",
    "# remove columns from df\n",
    "df = df[non_nan_cols].copy()\n",
    "df.head()"
   ]
  },
  {
   "cell_type": "markdown",
   "metadata": {},
   "source": [
    "## Remove all aircrafts that are not airplanes or helicopters"
   ]
  },
  {
   "cell_type": "code",
   "execution_count": 5,
   "metadata": {},
   "outputs": [
    {
     "data": {
      "text/plain": [
       "Unknown       56687\n",
       "Airplane      27617\n",
       "Helicopter     3440\n",
       "Name: Aircraft.Category, dtype: int64"
      ]
     },
     "execution_count": 5,
     "metadata": {},
     "output_type": "execute_result"
    }
   ],
   "source": [
    "# Within the Aircraft Category variable, replace nan with \"Unknown\" and change \"UNK\" to \"Unknown\" \n",
    "df['Aircraft.Category'].fillna('Unknown', inplace = True)\n",
    "df['Aircraft.Category'].replace({'UNK':'Unknown'}, inplace = True)\n",
    "\n",
    "# Filter the df for airplanes, helicopters, and aircrafts we are unsure of \n",
    "df = df[(df['Aircraft.Category'] == 'Airplane') | (df['Aircraft.Category'] == 'Helicopter') | (df['Aircraft.Category'] == 'Unknown')]\n",
    "\n",
    "# Display value counts of remaining aircrafts\n",
    "df['Aircraft.Category'].value_counts(dropna=False)"
   ]
  },
  {
   "cell_type": "markdown",
   "metadata": {},
   "source": [
    "Since there are many aircrafts that have an unknown aircraft category, we will use engine number and type to further filter for airplanes and helicopters."
   ]
  },
  {
   "cell_type": "code",
   "execution_count": 6,
   "metadata": {},
   "outputs": [
    {
     "data": {
      "text/html": [
       "<div>\n",
       "<style scoped>\n",
       "    .dataframe tbody tr th:only-of-type {\n",
       "        vertical-align: middle;\n",
       "    }\n",
       "\n",
       "    .dataframe tbody tr th {\n",
       "        vertical-align: top;\n",
       "    }\n",
       "\n",
       "    .dataframe thead th {\n",
       "        text-align: right;\n",
       "    }\n",
       "</style>\n",
       "<table border=\"1\" class=\"dataframe\">\n",
       "  <thead>\n",
       "    <tr style=\"text-align: right;\">\n",
       "      <th></th>\n",
       "      <th>Event.Date</th>\n",
       "      <th>Location</th>\n",
       "      <th>Country</th>\n",
       "      <th>Aircraft.damage</th>\n",
       "      <th>Make</th>\n",
       "      <th>Model</th>\n",
       "      <th>Amateur.Built</th>\n",
       "      <th>Number.of.Engines</th>\n",
       "      <th>Engine.Type</th>\n",
       "      <th>Purpose.of.flight</th>\n",
       "      <th>Total.Fatal.Injuries</th>\n",
       "      <th>Total.Serious.Injuries</th>\n",
       "      <th>Total.Minor.Injuries</th>\n",
       "      <th>Total.Uninjured</th>\n",
       "      <th>Weather.Condition</th>\n",
       "      <th>Aircraft.Category</th>\n",
       "    </tr>\n",
       "  </thead>\n",
       "  <tbody>\n",
       "    <tr>\n",
       "      <th>22648</th>\n",
       "      <td>1989-03-31</td>\n",
       "      <td>GREAT HARBOR, Bahamas</td>\n",
       "      <td>Bahamas</td>\n",
       "      <td>Destroyed</td>\n",
       "      <td>Cessna</td>\n",
       "      <td>421B</td>\n",
       "      <td>No</td>\n",
       "      <td>0.0</td>\n",
       "      <td>Reciprocating</td>\n",
       "      <td>Unknown</td>\n",
       "      <td>1.0</td>\n",
       "      <td>0.0</td>\n",
       "      <td>0.0</td>\n",
       "      <td>1.0</td>\n",
       "      <td>VMC</td>\n",
       "      <td>Unknown</td>\n",
       "    </tr>\n",
       "    <tr>\n",
       "      <th>77176</th>\n",
       "      <td>2015-06-14</td>\n",
       "      <td>Pell City, AL</td>\n",
       "      <td>United States</td>\n",
       "      <td>Substantial</td>\n",
       "      <td>WEATHERLY</td>\n",
       "      <td>201B</td>\n",
       "      <td>No</td>\n",
       "      <td>0.0</td>\n",
       "      <td>Reciprocating</td>\n",
       "      <td>Aerial Application</td>\n",
       "      <td>0.0</td>\n",
       "      <td>0.0</td>\n",
       "      <td>0.0</td>\n",
       "      <td>1.0</td>\n",
       "      <td>VMC</td>\n",
       "      <td>Airplane</td>\n",
       "    </tr>\n",
       "  </tbody>\n",
       "</table>\n",
       "</div>"
      ],
      "text/plain": [
       "       Event.Date               Location        Country Aircraft.damage  \\\n",
       "22648  1989-03-31  GREAT HARBOR, Bahamas        Bahamas       Destroyed   \n",
       "77176  2015-06-14          Pell City, AL  United States     Substantial   \n",
       "\n",
       "            Make Model Amateur.Built  Number.of.Engines    Engine.Type  \\\n",
       "22648     Cessna  421B            No                0.0  Reciprocating   \n",
       "77176  WEATHERLY  201B            No                0.0  Reciprocating   \n",
       "\n",
       "        Purpose.of.flight  Total.Fatal.Injuries  Total.Serious.Injuries  \\\n",
       "22648             Unknown                   1.0                     0.0   \n",
       "77176  Aerial Application                   0.0                     0.0   \n",
       "\n",
       "       Total.Minor.Injuries  Total.Uninjured Weather.Condition  \\\n",
       "22648                   0.0              1.0               VMC   \n",
       "77176                   0.0              1.0               VMC   \n",
       "\n",
       "      Aircraft.Category  \n",
       "22648           Unknown  \n",
       "77176          Airplane  "
      ]
     },
     "execution_count": 6,
     "metadata": {},
     "output_type": "execute_result"
    }
   ],
   "source": [
    "# Check if Number.of.Engines = 0 corresponds to no Engine.Type\n",
    "df[(df['Number.of.Engines']==0) & ((df['Engine.Type']!='NONE') & (df['Engine.Type'].notna())\\\n",
    "                                   & (df['Engine.Type'] != 'Unknown'))]"
   ]
  },
  {
   "cell_type": "code",
   "execution_count": 7,
   "metadata": {},
   "outputs": [],
   "source": [
    "# Replace Number.of.Engines = 0 with Number.of.Engines = Unknown if there is a recorded Engine.Type\n",
    "replace_indx = list(df[(df['Number.of.Engines']==0) \n",
    "                    & ((df['Engine.Type']!='NONE') \n",
    "                       & (df['Engine.Type'].notna()) \n",
    "                       & (df['Engine.Type'] != 'Unknown'))].index)\n",
    "\n",
    "df.loc[replace_indx, 'Number.of.Engines'] = 'Unknown'"
   ]
  },
  {
   "cell_type": "code",
   "execution_count": 8,
   "metadata": {},
   "outputs": [
    {
     "name": "stdout",
     "output_type": "stream",
     "text": [
      "Dropped 726 rows.\n"
     ]
    }
   ],
   "source": [
    "# Drop all aircrafts with no engines \n",
    "drop_rows = df.loc[(df['Number.of.Engines']==0)].index\n",
    "df = df.drop(drop_rows).reset_index(drop=True)\n",
    "\n",
    "print(f\"Dropped {len(drop_rows)} rows.\")"
   ]
  },
  {
   "cell_type": "code",
   "execution_count": 9,
   "metadata": {},
   "outputs": [],
   "source": [
    "df['Engine.Type'].fillna('UNK', inplace = True)\n",
    "df['Engine.Type'].replace({'UNK':'Unknown'}, inplace = True)\n",
    "\n",
    "# Fill nan with Unknown \n",
    "df['Number.of.Engines'].fillna('Unknown', inplace = True)"
   ]
  },
  {
   "cell_type": "code",
   "execution_count": 10,
   "metadata": {},
   "outputs": [],
   "source": [
    "# Drop aircrafts with engines uncommon for airplanes and helicopters \n",
    "drop_engines = ['NONE', 'LR', 'Hybrid Rocket']\n",
    "df = df[df['Engine.Type'].apply(lambda x: x not in drop_engines)]"
   ]
  },
  {
   "cell_type": "code",
   "execution_count": 11,
   "metadata": {},
   "outputs": [
    {
     "name": "stdout",
     "output_type": "stream",
     "text": [
      "Dropped 5242 rows.\n"
     ]
    }
   ],
   "source": [
    "# Amongst remaining rows, drop cells with an unknown number of engines AND unknown engine type.\n",
    "# We cannot identify whether these are airplanes, helicopters, or other.\n",
    "\n",
    "drop_rows = df.loc[(df['Number.of.Engines']=='Unknown') & (df['Engine.Type']=='Unknown')].index\n",
    "df = df.drop(drop_rows).reset_index(drop=True)\n",
    "\n",
    "print(f\"Dropped {len(drop_rows)} rows.\")"
   ]
  },
  {
   "cell_type": "code",
   "execution_count": 12,
   "metadata": {},
   "outputs": [
    {
     "data": {
      "text/plain": [
       "1.0        69043\n",
       "2.0        11070\n",
       "Unknown      750\n",
       "3.0          482\n",
       "4.0          429\n",
       "8.0            1\n",
       "6.0            1\n",
       "Name: Number.of.Engines, dtype: int64"
      ]
     },
     "execution_count": 12,
     "metadata": {},
     "output_type": "execute_result"
    }
   ],
   "source": [
    "df['Number.of.Engines'].value_counts(dropna=False)"
   ]
  },
  {
   "cell_type": "code",
   "execution_count": 13,
   "metadata": {},
   "outputs": [
    {
     "data": {
      "text/plain": [
       "Reciprocating      69042\n",
       "Turbo Shaft         3609\n",
       "Turbo Prop          3391\n",
       "Unknown             2534\n",
       "Turbo Fan           2481\n",
       "Turbo Jet            700\n",
       "Geared Turbofan       12\n",
       "Electric               7\n",
       "Name: Engine.Type, dtype: int64"
      ]
     },
     "execution_count": 13,
     "metadata": {},
     "output_type": "execute_result"
    }
   ],
   "source": [
    "df['Engine.Type'].value_counts(dropna=False)"
   ]
  },
  {
   "cell_type": "code",
   "execution_count": 14,
   "metadata": {},
   "outputs": [
    {
     "name": "stdout",
     "output_type": "stream",
     "text": [
      "Shape after dropping all but airplanes and helicopters: (81776, 16)\n"
     ]
    }
   ],
   "source": [
    "print(f\"Shape after dropping all but airplanes and helicopters: {df.shape}\")"
   ]
  },
  {
   "cell_type": "markdown",
   "metadata": {},
   "source": [
    "## Data Cleaning"
   ]
  },
  {
   "cell_type": "code",
   "execution_count": 15,
   "metadata": {},
   "outputs": [],
   "source": [
    "# Check if any of the injury columns have true values. If any do, fill nans with 0s. \n",
    "# If all columns are nans, assume the data was not logged and keep them as nans. \n",
    "injury_cols = ['Total.Fatal.Injuries', 'Total.Serious.Injuries', 'Total.Minor.Injuries', 'Total.Uninjured']\n",
    "injury_data_exists = df[injury_cols].apply(lambda col: any(col), axis = 1)\n",
    "\n",
    "for col in injury_cols:\n",
    "    df.loc[injury_data_exists & df[col].isna(), col] = 0"
   ]
  },
  {
   "cell_type": "markdown",
   "metadata": {},
   "source": [
    "We needed to have information about the amount of passengers that were on each incident. We used the information in the four columns related to injuries to extract it.\n",
    "\n",
    "Aditionally we created percentages for the passengers that: Got injured, ended uninjured, and died."
   ]
  },
  {
   "cell_type": "code",
   "execution_count": 16,
   "metadata": {},
   "outputs": [],
   "source": [
    "#Obtaining the total of passengers\n",
    "#Make note of dividing by zero situation in pecert.Injured and Percent.Died / Number of Passengers\n",
    "\n",
    "df['Total.Passengers'] = df['Total.Fatal.Injuries'] + df['Total.Serious.Injuries'] + df['Total.Minor.Injuries']+ df['Total.Uninjured']\n",
    "df['Total.Injured'] = df['Total.Fatal.Injuries'] + df['Total.Serious.Injuries'] + df['Total.Minor.Injuries']\n",
    "\n",
    "#Creating Percentages for every kind of situation.\n",
    "# Note that we had to account for division by 0 where the plane had no passengers.\n",
    "\n",
    "df['Percent.Injured'] = (df['Total.Injured'] / df['Total.Passengers']) * 100\n",
    "df['Percent.Uninjured'] = (df['Total.Uninjured'] / df['Total.Passengers']) * 100\n",
    "df['Percent.Died'] = (df['Total.Fatal.Injuries'] / df['Total.Passengers']) * 100\n",
    "df.loc[df['Total.Passengers'] == 0, ['Percent.Injured','Percent.Died','Percent.Uninjured']] = 0"
   ]
  },
  {
   "cell_type": "code",
   "execution_count": 17,
   "metadata": {},
   "outputs": [
    {
     "data": {
      "text/html": [
       "<div>\n",
       "<style scoped>\n",
       "    .dataframe tbody tr th:only-of-type {\n",
       "        vertical-align: middle;\n",
       "    }\n",
       "\n",
       "    .dataframe tbody tr th {\n",
       "        vertical-align: top;\n",
       "    }\n",
       "\n",
       "    .dataframe thead th {\n",
       "        text-align: right;\n",
       "    }\n",
       "</style>\n",
       "<table border=\"1\" class=\"dataframe\">\n",
       "  <thead>\n",
       "    <tr style=\"text-align: right;\">\n",
       "      <th></th>\n",
       "      <th>Event.Date</th>\n",
       "      <th>Location</th>\n",
       "      <th>Country</th>\n",
       "      <th>Aircraft.damage</th>\n",
       "      <th>Make</th>\n",
       "      <th>Model</th>\n",
       "      <th>Number.of.Engines</th>\n",
       "      <th>Engine.Type</th>\n",
       "      <th>Purpose.of.flight</th>\n",
       "      <th>Total.Fatal.Injuries</th>\n",
       "      <th>Total.Serious.Injuries</th>\n",
       "      <th>Total.Minor.Injuries</th>\n",
       "      <th>Total.Uninjured</th>\n",
       "      <th>Weather.Condition</th>\n",
       "      <th>Aircraft.Category</th>\n",
       "      <th>Total.Passengers</th>\n",
       "      <th>Total.Injured</th>\n",
       "      <th>Percent.Injured</th>\n",
       "      <th>Percent.Uninjured</th>\n",
       "      <th>Percent.Died</th>\n",
       "    </tr>\n",
       "  </thead>\n",
       "  <tbody>\n",
       "    <tr>\n",
       "      <th>0</th>\n",
       "      <td>1948-10-24</td>\n",
       "      <td>MOOSE CREEK, ID</td>\n",
       "      <td>United States</td>\n",
       "      <td>Destroyed</td>\n",
       "      <td>Stinson</td>\n",
       "      <td>108-3</td>\n",
       "      <td>1</td>\n",
       "      <td>Reciprocating</td>\n",
       "      <td>Personal</td>\n",
       "      <td>2.0</td>\n",
       "      <td>0.0</td>\n",
       "      <td>0.0</td>\n",
       "      <td>0.0</td>\n",
       "      <td>UNK</td>\n",
       "      <td>Unknown</td>\n",
       "      <td>2.0</td>\n",
       "      <td>2.0</td>\n",
       "      <td>100.000000</td>\n",
       "      <td>0.000000</td>\n",
       "      <td>100.0</td>\n",
       "    </tr>\n",
       "    <tr>\n",
       "      <th>1</th>\n",
       "      <td>1962-07-19</td>\n",
       "      <td>BRIDGEPORT, CA</td>\n",
       "      <td>United States</td>\n",
       "      <td>Destroyed</td>\n",
       "      <td>Piper</td>\n",
       "      <td>PA24-180</td>\n",
       "      <td>1</td>\n",
       "      <td>Reciprocating</td>\n",
       "      <td>Personal</td>\n",
       "      <td>4.0</td>\n",
       "      <td>0.0</td>\n",
       "      <td>0.0</td>\n",
       "      <td>0.0</td>\n",
       "      <td>UNK</td>\n",
       "      <td>Unknown</td>\n",
       "      <td>4.0</td>\n",
       "      <td>4.0</td>\n",
       "      <td>100.000000</td>\n",
       "      <td>0.000000</td>\n",
       "      <td>100.0</td>\n",
       "    </tr>\n",
       "    <tr>\n",
       "      <th>2</th>\n",
       "      <td>1974-08-30</td>\n",
       "      <td>Saltville, VA</td>\n",
       "      <td>United States</td>\n",
       "      <td>Destroyed</td>\n",
       "      <td>Cessna</td>\n",
       "      <td>172M</td>\n",
       "      <td>1</td>\n",
       "      <td>Reciprocating</td>\n",
       "      <td>Personal</td>\n",
       "      <td>3.0</td>\n",
       "      <td>0.0</td>\n",
       "      <td>0.0</td>\n",
       "      <td>0.0</td>\n",
       "      <td>IMC</td>\n",
       "      <td>Unknown</td>\n",
       "      <td>3.0</td>\n",
       "      <td>3.0</td>\n",
       "      <td>100.000000</td>\n",
       "      <td>0.000000</td>\n",
       "      <td>100.0</td>\n",
       "    </tr>\n",
       "    <tr>\n",
       "      <th>3</th>\n",
       "      <td>1977-06-19</td>\n",
       "      <td>EUREKA, CA</td>\n",
       "      <td>United States</td>\n",
       "      <td>Destroyed</td>\n",
       "      <td>Rockwell</td>\n",
       "      <td>112</td>\n",
       "      <td>1</td>\n",
       "      <td>Reciprocating</td>\n",
       "      <td>Personal</td>\n",
       "      <td>2.0</td>\n",
       "      <td>0.0</td>\n",
       "      <td>0.0</td>\n",
       "      <td>0.0</td>\n",
       "      <td>IMC</td>\n",
       "      <td>Unknown</td>\n",
       "      <td>2.0</td>\n",
       "      <td>2.0</td>\n",
       "      <td>100.000000</td>\n",
       "      <td>0.000000</td>\n",
       "      <td>100.0</td>\n",
       "    </tr>\n",
       "    <tr>\n",
       "      <th>4</th>\n",
       "      <td>1979-09-17</td>\n",
       "      <td>BOSTON, MA</td>\n",
       "      <td>United States</td>\n",
       "      <td>Substantial</td>\n",
       "      <td>Mcdonnell Douglas</td>\n",
       "      <td>DC9</td>\n",
       "      <td>2</td>\n",
       "      <td>Turbo Fan</td>\n",
       "      <td>NaN</td>\n",
       "      <td>0.0</td>\n",
       "      <td>0.0</td>\n",
       "      <td>1.0</td>\n",
       "      <td>44.0</td>\n",
       "      <td>VMC</td>\n",
       "      <td>Airplane</td>\n",
       "      <td>45.0</td>\n",
       "      <td>1.0</td>\n",
       "      <td>2.222222</td>\n",
       "      <td>97.777778</td>\n",
       "      <td>0.0</td>\n",
       "    </tr>\n",
       "  </tbody>\n",
       "</table>\n",
       "</div>"
      ],
      "text/plain": [
       "   Event.Date         Location        Country Aircraft.damage  \\\n",
       "0  1948-10-24  MOOSE CREEK, ID  United States       Destroyed   \n",
       "1  1962-07-19   BRIDGEPORT, CA  United States       Destroyed   \n",
       "2  1974-08-30    Saltville, VA  United States       Destroyed   \n",
       "3  1977-06-19       EUREKA, CA  United States       Destroyed   \n",
       "4  1979-09-17       BOSTON, MA  United States     Substantial   \n",
       "\n",
       "                Make     Model Number.of.Engines    Engine.Type  \\\n",
       "0            Stinson     108-3                 1  Reciprocating   \n",
       "1              Piper  PA24-180                 1  Reciprocating   \n",
       "2             Cessna      172M                 1  Reciprocating   \n",
       "3           Rockwell       112                 1  Reciprocating   \n",
       "4  Mcdonnell Douglas       DC9                 2      Turbo Fan   \n",
       "\n",
       "  Purpose.of.flight  Total.Fatal.Injuries  Total.Serious.Injuries  \\\n",
       "0          Personal                   2.0                     0.0   \n",
       "1          Personal                   4.0                     0.0   \n",
       "2          Personal                   3.0                     0.0   \n",
       "3          Personal                   2.0                     0.0   \n",
       "4               NaN                   0.0                     0.0   \n",
       "\n",
       "   Total.Minor.Injuries  Total.Uninjured Weather.Condition Aircraft.Category  \\\n",
       "0                   0.0              0.0               UNK           Unknown   \n",
       "1                   0.0              0.0               UNK           Unknown   \n",
       "2                   0.0              0.0               IMC           Unknown   \n",
       "3                   0.0              0.0               IMC           Unknown   \n",
       "4                   1.0             44.0               VMC          Airplane   \n",
       "\n",
       "   Total.Passengers  Total.Injured  Percent.Injured  Percent.Uninjured  \\\n",
       "0               2.0            2.0       100.000000           0.000000   \n",
       "1               4.0            4.0       100.000000           0.000000   \n",
       "2               3.0            3.0       100.000000           0.000000   \n",
       "3               2.0            2.0       100.000000           0.000000   \n",
       "4              45.0            1.0         2.222222          97.777778   \n",
       "\n",
       "   Percent.Died  \n",
       "0         100.0  \n",
       "1         100.0  \n",
       "2         100.0  \n",
       "3         100.0  \n",
       "4           0.0  "
      ]
     },
     "execution_count": 17,
     "metadata": {},
     "output_type": "execute_result"
    }
   ],
   "source": [
    "# We decided to remove everything that is not Amateur Built.\n",
    "# Remove rows where Amateur.Built is Yes or NaN, then remove Amateur.Built column\n",
    "\n",
    "df = df.drop(df.loc[(df['Amateur.Built']=='Yes') |( df['Amateur.Built'].isna())].index)\n",
    "df.reset_index(drop = True, inplace = True)\n",
    "df.drop(columns = 'Amateur.Built', inplace = True)\n",
    "df.head()"
   ]
  },
  {
   "cell_type": "code",
   "execution_count": 18,
   "metadata": {},
   "outputs": [
    {
     "data": {
      "text/plain": [
       "Visual Meteorological Conditions          65672\n",
       "Instrumental Meteorological Conditions     5596\n",
       "Unknown                                    2446\n",
       "Name: Weather.Condition, dtype: int64"
      ]
     },
     "execution_count": 18,
     "metadata": {},
     "output_type": "execute_result"
    }
   ],
   "source": [
    "# Clean Weather Condition\n",
    "#Change the notation \"IMC\" and \"VMC\" to have a clear understanding of each condition.\n",
    "df['Weather.Condition'].replace({'Unk':'Unknown','UNK':'Unknown','VMC':'Visual Meteorological Conditions',\\\n",
    "                                 'IMC':'Instrumental Meteorological Conditions'}, inplace = True)\n",
    "df['Weather.Condition'].fillna('Unknown', inplace = True)\n",
    "df['Weather.Condition'].value_counts(dropna=False)"
   ]
  },
  {
   "cell_type": "code",
   "execution_count": 19,
   "metadata": {},
   "outputs": [
    {
     "data": {
      "text/plain": [
       "Substantial    54757\n",
       "Destroyed      14862\n",
       "Minor           2131\n",
       "Unknown         1964\n",
       "Name: Aircraft.damage, dtype: int64"
      ]
     },
     "execution_count": 19,
     "metadata": {},
     "output_type": "execute_result"
    }
   ],
   "source": [
    "# Replacing 'NaN' values in Aircraft Damage\n",
    "df['Aircraft.damage'].fillna('Unknown', inplace = True)\n",
    "df['Aircraft.damage'].value_counts(dropna = False)"
   ]
  },
  {
   "cell_type": "code",
   "execution_count": 20,
   "metadata": {},
   "outputs": [],
   "source": [
    "#Transform the Event Date into three separate Date columns that specify day, month and year of the incident.\n",
    "#Dropping 'Event.Date' once the columns are created:\n",
    "df['Event.Date'] = pd.to_datetime(df['Event.Date'])\n",
    "df['Event.Day'] = df['Event.Date'].map(lambda x: x.day)\n",
    "df['Event.Month'] = df['Event.Date'].map(lambda x: x.month)\n",
    "df['Event.Month.Name'] = df['Event.Date'].map(lambda x: x.month_name())\n",
    "df['Event.Year'] = df['Event.Date'].map(lambda x: x.year)\n",
    "df.drop(['Event.Date'], axis=1, inplace=True)"
   ]
  },
  {
   "cell_type": "markdown",
   "metadata": {},
   "source": [
    "### Working with the location\n",
    "\n",
    "We decided to keep data from every country, so we could have more data to analyze the performance of the airplanes.\n",
    "\n",
    "But, since we're not interested in the locations outside of the US, we rename all of the other countries \"Foreign Country\" to make the classification process easier.\n",
    "\n",
    "For the Location Column, we just decided to kept the code for the corresponding State. All the ocurrences that were either in a foreign country or Unknown will be categorized as \"Unknown/Foreign Location\""
   ]
  },
  {
   "cell_type": "code",
   "execution_count": 21,
   "metadata": {},
   "outputs": [],
   "source": [
    "#Grouping all the Countries outside of the US as \"Foreign Country\"\n",
    "df.loc[df['Country'] != 'United States', 'Country'] = 'Foreign Country'"
   ]
  },
  {
   "cell_type": "code",
   "execution_count": 22,
   "metadata": {},
   "outputs": [],
   "source": [
    "#Filling the Null Values with \"Unknown\" the the Location Column\n",
    "df['Location'] = df['Location'].fillna('Unknown')\n",
    "\n",
    "# Adjusting the Column so it shows code of the corresponding State, if it's Unknown or outside of the US, label accordingly\n",
    "df['Location'] = df['Location'].apply(lambda location: location.split(', ')[-1] if \\\n",
    "                                      len(location.split(', ')) > 1 and len(location.split(', ')[-1]) == 2 else \\\n",
    "                                      'Unknown/Foreign Location')"
   ]
  },
  {
   "cell_type": "code",
   "execution_count": 23,
   "metadata": {},
   "outputs": [],
   "source": [
    "#Cleaning the 'Make' Column\n",
    "#Create the list 'characters_to_remove' so we can drop any puctuation sign that can make our name differ.\n",
    "characters_to_remove = ['(', ')', ',', '.', '%', '?','-']\n",
    "# Fill 'NaN' values with Unknown.\n",
    "df['Make'] = df['Make'].str.title().fillna('Unknown')\n",
    "df['Make'] = df['Make'].map(lambda x: ''.join(char for char in x if char not in characters_to_remove))\n",
    "\n",
    "#Based on further analysis, we found different names which certain variations and added words.\n",
    "# 'names_var' dictionary is a way to unify names that have many variatios\n",
    "\n",
    "names_var = {'Boeing': 'Boeing', 'Cirrus':'Cirrus','Airbus':'Airbus','Douglas':'Boeing', \\\n",
    "             'Air Tractor':'Air Tractor','Embraer':'Embraer','Bombardier':'Bombardier'}\n",
    "for key, value in names_var.items():\n",
    "    df.loc[df['Make'].str.contains(key), 'Make'] = value\n",
    "\n",
    "df['Make'].loc[df['Make'].str.contains('Robinson Helicopter Company|Robinson Helicopter', case=False)] = 'Robinson'\n",
    "    \n",
    "\n",
    "#Since there are many 'Makes' with a really low count of incidences, we keep just the top 50.\n",
    "top_50_makes = df['Make'].value_counts().index[:50]\n",
    "df = df[df['Make'].isin(top_50_makes)]"
   ]
  },
  {
   "cell_type": "code",
   "execution_count": 24,
   "metadata": {},
   "outputs": [],
   "source": [
    "#Cleaning the 'Model' Column\n",
    "df['Model'] = df['Model'].str.title().fillna('Unknown')\n",
    "characters_to_remove = ['(', ')', '/', ' ', '-']\n",
    "df['Model'] = df['Model'].map(lambda x: ''.join(char for char in x if char not in characters_to_remove))\n",
    "df['Model'] = df['Model'].map(lambda x: x.lower())"
   ]
  },
  {
   "cell_type": "code",
   "execution_count": 25,
   "metadata": {},
   "outputs": [],
   "source": [
    "#Replacing NaN values for 'Unknown in 'Purpose of flight':\n",
    "df['Purpose.of.flight'].fillna('Unknown', inplace=True)"
   ]
  },
  {
   "cell_type": "code",
   "execution_count": null,
   "metadata": {},
   "outputs": [],
   "source": []
  },
  {
   "cell_type": "code",
   "execution_count": null,
   "metadata": {},
   "outputs": [],
   "source": []
  },
  {
   "cell_type": "markdown",
   "metadata": {},
   "source": [
    "## NTBS Aviation Analyses\n",
    "\n",
    "* Student name: Tem Orederu and Eduardo Gonzalez \n",
    "* Student pace: Full time\n",
    "* Scheduled project review date/time: August 25, 2023\n",
    "* Instructor name: Joseph Mata\n"
   ]
  },
  {
   "cell_type": "markdown",
   "metadata": {},
   "source": [
    "## Introduction"
   ]
  },
  {
   "cell_type": "markdown",
   "metadata": {},
   "source": [
    "Our stakeholders are interested in purchasing and operating airplanes for commercial and private enterprises, and need information about the potential risks of aircrafts. Here, we conduct two sets of analyses using data collected by the National Transportation Safety Board. The dataset includes information about aircraft accidents from 1962 to 2023 in the United States and international waters. "
   ]
  },
  {
   "cell_type": "markdown",
   "metadata": {},
   "source": [
    "## Import Packages and Data"
   ]
  },
  {
   "cell_type": "code",
   "execution_count": 26,
   "metadata": {},
   "outputs": [],
   "source": [
    "# # Switch to determine whether running the notebook will generate new csvs and pngs (and overwrite previous versions) \n",
    "# generate_csvs = 0\n",
    "# generate_pngs = 0"
   ]
  },
  {
   "cell_type": "code",
   "execution_count": 27,
   "metadata": {},
   "outputs": [],
   "source": [
    "# # Import necessary packages and suppress warnings\n",
    "# import pandas as pd\n",
    "# import warnings\n",
    "# import matplotlib.pyplot as plt\n",
    "# import seaborn as sns\n",
    "# import numpy as np\n",
    "# warnings.filterwarnings('ignore')"
   ]
  },
  {
   "cell_type": "code",
   "execution_count": 28,
   "metadata": {},
   "outputs": [],
   "source": [
    "# # Read in csv of cleaned data and preview data\n",
    "# df = pd.read_csv('data/data_clean.csv')\n",
    "# df.head()"
   ]
  },
  {
   "cell_type": "markdown",
   "metadata": {},
   "source": [
    "## Visualize KPIs"
   ]
  },
  {
   "cell_type": "code",
   "execution_count": 29,
   "metadata": {},
   "outputs": [
    {
     "data": {
      "image/png": "[encoded data removed]",
      "text/plain": [
       "<Figure size 1080x576 with 4 Axes>"
      ]
     },
     "metadata": {
      "needs_background": "light"
     },
     "output_type": "display_data"
    }
   ],
   "source": [
    "# Visualize distribution of key variables\n",
    "fig, ax = plt.subplots(2,2, figsize = ((15,8)))\n",
    "\n",
    "# Aircraft Damage\n",
    "df['Aircraft.damage'].value_counts().plot.bar(ax=ax[0,0]);\n",
    "ax[0, 0].set_title(\"Aircraft Damage\")\n",
    "ax[0, 0].set_xlabel(\"\")\n",
    "\n",
    "# Total Injured\n",
    "df['Total.Injured'].plot.hist(ax=ax[0,1], range=[0,30])\n",
    "ax[0, 1].set_title(\"Total Injured\")\n",
    "ax[0, 1].set_xlabel(\"\")\n",
    "\n",
    "# Percent Injured\n",
    "df['Percent.Injured'].plot.hist(ax=ax[1,0])\n",
    "ax[1, 0].set_title(\"Percent Injured\")\n",
    "ax[1, 0].set_xlabel(\"\")\n",
    "\n",
    "# Percent Died\n",
    "df['Percent.Died'].plot.hist(ax=ax[1,1]);\n",
    "ax[1, 1].set_title(\"Percent Died\")\n",
    "ax[1, 1].set_xlabel(\"\")\n",
    "\n",
    "plt.tight_layout()\n",
    "sns.despine()"
   ]
  },
  {
   "cell_type": "code",
   "execution_count": 30,
   "metadata": {},
   "outputs": [
    {
     "name": "stdout",
     "output_type": "stream",
     "text": [
      "top makes: ['Cessna', 'Piper', 'Beech', 'Boeing', 'Bell', 'Robinson', 'Mooney', 'Grumman', 'Bellanca', 'Hughes', 'Air Tractor', 'Aeronca', 'Maule', 'Champion', 'Stinson', 'Cirrus', 'Luscombe', 'Aero Commander', 'De Havilland', 'Taylorcraft', 'North American', 'Schweizer', 'Aerospatiale', 'Airbus', 'Rockwell', 'Hiller', 'Enstrom', 'Ayres', 'Grumman American', 'Embraer', 'Eurocopter', 'Sikorsky', 'Swearingen', 'Ercoupe Eng & Research Corp', 'Lake', 'Fairchild', 'Waco', 'Aviat', 'Mitsubishi', 'Bombardier', 'GrummanSchweizer', 'Socata', 'Ryan', 'Helio', 'Learjet', 'Lockheed', 'Dehavilland', 'Globe', 'Weatherly', 'Wsk Pzl Mielec']\n"
     ]
    }
   ],
   "source": [
    "# Generate and print a list of all the popular makes in the dataset\n",
    "# Note that the cleaned csv only includes incidents involving the top 50 makes \n",
    "\n",
    "popular_makes = list(df['Make'].value_counts().index)\n",
    "print(f\"top makes: {popular_makes}\")"
   ]
  },
  {
   "cell_type": "markdown",
   "metadata": {},
   "source": [
    "## Damage Index"
   ]
  },
  {
   "cell_type": "markdown",
   "metadata": {},
   "source": [
    "Each row in the dataset contains information about an aircraft accident. In this section, we calculate a damage index to quantify how destructive the accidents were for a particular Make of aircraft. The damage index considers the ratio of planes of a particular Make that were destroyed in the incident, compared to the ratio of planes that with substantial damage and minor damage. \n",
    "\n",
    "We assume an exponential relationship between levels of aircraft damage, such that incidents with substantial damage are twice as bad as those with minor damage, but incidents with destroyed planes are four times as bad as those with minor damage. \n",
    "\n",
    "The damage index formula is as follows: (ratio destroyed x 4) + (ratio subtantial x 2) + (ratio minor x 1)."
   ]
  },
  {
   "cell_type": "code",
   "execution_count": 31,
   "metadata": {},
   "outputs": [
    {
     "ename": "IndexError",
     "evalue": "index 67365 is out of bounds for axis 0 with size 67290",
     "output_type": "error",
     "traceback": [
      "\u001b[1;31m---------------------------------------------------------------------------\u001b[0m",
      "\u001b[1;31mIndexError\u001b[0m                                Traceback (most recent call last)",
      "\u001b[1;32m<ipython-input-31-ba1674b8f49d>\u001b[0m in \u001b[0;36m<module>\u001b[1;34m\u001b[0m\n\u001b[0;32m     16\u001b[0m \u001b[1;31m# Create a new dataset with the new unknown values in Aircraft Damage replaced\u001b[0m\u001b[1;33m\u001b[0m\u001b[1;33m\u001b[0m\u001b[1;33m\u001b[0m\u001b[0m\n\u001b[0;32m     17\u001b[0m \u001b[0madj_df\u001b[0m \u001b[1;33m=\u001b[0m \u001b[0mdf\u001b[0m\u001b[1;33m.\u001b[0m\u001b[0mcopy\u001b[0m\u001b[1;33m(\u001b[0m\u001b[1;33m)\u001b[0m\u001b[1;33m\u001b[0m\u001b[1;33m\u001b[0m\u001b[0m\n\u001b[1;32m---> 18\u001b[1;33m \u001b[0madj_df\u001b[0m\u001b[1;33m[\u001b[0m\u001b[1;34m'Aircraft.damage'\u001b[0m\u001b[1;33m]\u001b[0m\u001b[1;33m.\u001b[0m\u001b[0miloc\u001b[0m\u001b[1;33m[\u001b[0m\u001b[0munk_indices\u001b[0m\u001b[1;33m]\u001b[0m \u001b[1;33m=\u001b[0m \u001b[0mrand_damage\u001b[0m\u001b[1;33m\u001b[0m\u001b[1;33m\u001b[0m\u001b[0m\n\u001b[0m",
      "\u001b[1;32m~\\anaconda3\\envs\\learn-env\\lib\\site-packages\\pandas\\core\\indexing.py\u001b[0m in \u001b[0;36m__setitem__\u001b[1;34m(self, key, value)\u001b[0m\n\u001b[0;32m    668\u001b[0m \u001b[1;33m\u001b[0m\u001b[0m\n\u001b[0;32m    669\u001b[0m         \u001b[0miloc\u001b[0m \u001b[1;33m=\u001b[0m \u001b[0mself\u001b[0m \u001b[1;32mif\u001b[0m \u001b[0mself\u001b[0m\u001b[1;33m.\u001b[0m\u001b[0mname\u001b[0m \u001b[1;33m==\u001b[0m \u001b[1;34m\"iloc\"\u001b[0m \u001b[1;32melse\u001b[0m \u001b[0mself\u001b[0m\u001b[1;33m.\u001b[0m\u001b[0mobj\u001b[0m\u001b[1;33m.\u001b[0m\u001b[0miloc\u001b[0m\u001b[1;33m\u001b[0m\u001b[1;33m\u001b[0m\u001b[0m\n\u001b[1;32m--> 670\u001b[1;33m         \u001b[0miloc\u001b[0m\u001b[1;33m.\u001b[0m\u001b[0m_setitem_with_indexer\u001b[0m\u001b[1;33m(\u001b[0m\u001b[0mindexer\u001b[0m\u001b[1;33m,\u001b[0m \u001b[0mvalue\u001b[0m\u001b[1;33m)\u001b[0m\u001b[1;33m\u001b[0m\u001b[1;33m\u001b[0m\u001b[0m\n\u001b[0m\u001b[0;32m    671\u001b[0m \u001b[1;33m\u001b[0m\u001b[0m\n\u001b[0;32m    672\u001b[0m     \u001b[1;32mdef\u001b[0m \u001b[0m_validate_key\u001b[0m\u001b[1;33m(\u001b[0m\u001b[0mself\u001b[0m\u001b[1;33m,\u001b[0m \u001b[0mkey\u001b[0m\u001b[1;33m,\u001b[0m \u001b[0maxis\u001b[0m\u001b[1;33m:\u001b[0m \u001b[0mint\u001b[0m\u001b[1;33m)\u001b[0m\u001b[1;33m:\u001b[0m\u001b[1;33m\u001b[0m\u001b[1;33m\u001b[0m\u001b[0m\n",
      "\u001b[1;32m~\\anaconda3\\envs\\learn-env\\lib\\site-packages\\pandas\\core\\indexing.py\u001b[0m in \u001b[0;36m_setitem_with_indexer\u001b[1;34m(self, indexer, value)\u001b[0m\n\u001b[0;32m   1800\u001b[0m             \u001b[1;31m# actually do the set\u001b[0m\u001b[1;33m\u001b[0m\u001b[1;33m\u001b[0m\u001b[1;33m\u001b[0m\u001b[0m\n\u001b[0;32m   1801\u001b[0m             \u001b[0mself\u001b[0m\u001b[1;33m.\u001b[0m\u001b[0mobj\u001b[0m\u001b[1;33m.\u001b[0m\u001b[0m_consolidate_inplace\u001b[0m\u001b[1;33m(\u001b[0m\u001b[1;33m)\u001b[0m\u001b[1;33m\u001b[0m\u001b[1;33m\u001b[0m\u001b[0m\n\u001b[1;32m-> 1802\u001b[1;33m             \u001b[0mself\u001b[0m\u001b[1;33m.\u001b[0m\u001b[0mobj\u001b[0m\u001b[1;33m.\u001b[0m\u001b[0m_mgr\u001b[0m \u001b[1;33m=\u001b[0m \u001b[0mself\u001b[0m\u001b[1;33m.\u001b[0m\u001b[0mobj\u001b[0m\u001b[1;33m.\u001b[0m\u001b[0m_mgr\u001b[0m\u001b[1;33m.\u001b[0m\u001b[0msetitem\u001b[0m\u001b[1;33m(\u001b[0m\u001b[0mindexer\u001b[0m\u001b[1;33m=\u001b[0m\u001b[0mindexer\u001b[0m\u001b[1;33m,\u001b[0m \u001b[0mvalue\u001b[0m\u001b[1;33m=\u001b[0m\u001b[0mvalue\u001b[0m\u001b[1;33m)\u001b[0m\u001b[1;33m\u001b[0m\u001b[1;33m\u001b[0m\u001b[0m\n\u001b[0m\u001b[0;32m   1803\u001b[0m             \u001b[0mself\u001b[0m\u001b[1;33m.\u001b[0m\u001b[0mobj\u001b[0m\u001b[1;33m.\u001b[0m\u001b[0m_maybe_update_cacher\u001b[0m\u001b[1;33m(\u001b[0m\u001b[0mclear\u001b[0m\u001b[1;33m=\u001b[0m\u001b[1;32mTrue\u001b[0m\u001b[1;33m)\u001b[0m\u001b[1;33m\u001b[0m\u001b[1;33m\u001b[0m\u001b[0m\n\u001b[0;32m   1804\u001b[0m \u001b[1;33m\u001b[0m\u001b[0m\n",
      "\u001b[1;32m~\\anaconda3\\envs\\learn-env\\lib\\site-packages\\pandas\\core\\internals\\managers.py\u001b[0m in \u001b[0;36msetitem\u001b[1;34m(self, indexer, value)\u001b[0m\n\u001b[0;32m    532\u001b[0m \u001b[1;33m\u001b[0m\u001b[0m\n\u001b[0;32m    533\u001b[0m     \u001b[1;32mdef\u001b[0m \u001b[0msetitem\u001b[0m\u001b[1;33m(\u001b[0m\u001b[0mself\u001b[0m\u001b[1;33m,\u001b[0m \u001b[0mindexer\u001b[0m\u001b[1;33m,\u001b[0m \u001b[0mvalue\u001b[0m\u001b[1;33m)\u001b[0m \u001b[1;33m->\u001b[0m \u001b[1;34m\"BlockManager\"\u001b[0m\u001b[1;33m:\u001b[0m\u001b[1;33m\u001b[0m\u001b[1;33m\u001b[0m\u001b[0m\n\u001b[1;32m--> 534\u001b[1;33m         \u001b[1;32mreturn\u001b[0m \u001b[0mself\u001b[0m\u001b[1;33m.\u001b[0m\u001b[0mapply\u001b[0m\u001b[1;33m(\u001b[0m\u001b[1;34m\"setitem\"\u001b[0m\u001b[1;33m,\u001b[0m \u001b[0mindexer\u001b[0m\u001b[1;33m=\u001b[0m\u001b[0mindexer\u001b[0m\u001b[1;33m,\u001b[0m \u001b[0mvalue\u001b[0m\u001b[1;33m=\u001b[0m\u001b[0mvalue\u001b[0m\u001b[1;33m)\u001b[0m\u001b[1;33m\u001b[0m\u001b[1;33m\u001b[0m\u001b[0m\n\u001b[0m\u001b[0;32m    535\u001b[0m \u001b[1;33m\u001b[0m\u001b[0m\n\u001b[0;32m    536\u001b[0m     def putmask(\n",
      "\u001b[1;32m~\\anaconda3\\envs\\learn-env\\lib\\site-packages\\pandas\\core\\internals\\managers.py\u001b[0m in \u001b[0;36mapply\u001b[1;34m(self, f, align_keys, **kwargs)\u001b[0m\n\u001b[0;32m    404\u001b[0m                 \u001b[0mapplied\u001b[0m \u001b[1;33m=\u001b[0m \u001b[0mb\u001b[0m\u001b[1;33m.\u001b[0m\u001b[0mapply\u001b[0m\u001b[1;33m(\u001b[0m\u001b[0mf\u001b[0m\u001b[1;33m,\u001b[0m \u001b[1;33m**\u001b[0m\u001b[0mkwargs\u001b[0m\u001b[1;33m)\u001b[0m\u001b[1;33m\u001b[0m\u001b[1;33m\u001b[0m\u001b[0m\n\u001b[0;32m    405\u001b[0m             \u001b[1;32melse\u001b[0m\u001b[1;33m:\u001b[0m\u001b[1;33m\u001b[0m\u001b[1;33m\u001b[0m\u001b[0m\n\u001b[1;32m--> 406\u001b[1;33m                 \u001b[0mapplied\u001b[0m \u001b[1;33m=\u001b[0m \u001b[0mgetattr\u001b[0m\u001b[1;33m(\u001b[0m\u001b[0mb\u001b[0m\u001b[1;33m,\u001b[0m \u001b[0mf\u001b[0m\u001b[1;33m)\u001b[0m\u001b[1;33m(\u001b[0m\u001b[1;33m**\u001b[0m\u001b[0mkwargs\u001b[0m\u001b[1;33m)\u001b[0m\u001b[1;33m\u001b[0m\u001b[1;33m\u001b[0m\u001b[0m\n\u001b[0m\u001b[0;32m    407\u001b[0m             \u001b[0mresult_blocks\u001b[0m \u001b[1;33m=\u001b[0m \u001b[0m_extend_blocks\u001b[0m\u001b[1;33m(\u001b[0m\u001b[0mapplied\u001b[0m\u001b[1;33m,\u001b[0m \u001b[0mresult_blocks\u001b[0m\u001b[1;33m)\u001b[0m\u001b[1;33m\u001b[0m\u001b[1;33m\u001b[0m\u001b[0m\n\u001b[0;32m    408\u001b[0m \u001b[1;33m\u001b[0m\u001b[0m\n",
      "\u001b[1;32m~\\anaconda3\\envs\\learn-env\\lib\\site-packages\\pandas\\core\\internals\\blocks.py\u001b[0m in \u001b[0;36msetitem\u001b[1;34m(self, indexer, value)\u001b[0m\n\u001b[0;32m    889\u001b[0m         \u001b[1;31m# set\u001b[0m\u001b[1;33m\u001b[0m\u001b[1;33m\u001b[0m\u001b[1;33m\u001b[0m\u001b[0m\n\u001b[0;32m    890\u001b[0m         \u001b[1;32melse\u001b[0m\u001b[1;33m:\u001b[0m\u001b[1;33m\u001b[0m\u001b[1;33m\u001b[0m\u001b[0m\n\u001b[1;32m--> 891\u001b[1;33m             \u001b[0mvalues\u001b[0m\u001b[1;33m[\u001b[0m\u001b[0mindexer\u001b[0m\u001b[1;33m]\u001b[0m \u001b[1;33m=\u001b[0m \u001b[0mvalue\u001b[0m\u001b[1;33m\u001b[0m\u001b[1;33m\u001b[0m\u001b[0m\n\u001b[0m\u001b[0;32m    892\u001b[0m \u001b[1;33m\u001b[0m\u001b[0m\n\u001b[0;32m    893\u001b[0m         \u001b[1;32mif\u001b[0m \u001b[0mtranspose\u001b[0m\u001b[1;33m:\u001b[0m\u001b[1;33m\u001b[0m\u001b[1;33m\u001b[0m\u001b[0m\n",
      "\u001b[1;31mIndexError\u001b[0m: index 67365 is out of bounds for axis 0 with size 67290"
     ]
    }
   ],
   "source": [
    "# Create a new df for calculating the damage index. In this dataframe, \"Unknown\" \n",
    "# values in the Aircraft Damage column will be randomly assigned a value. \n",
    "# Note that random assignments are weighted by the probability distribution of values in the known subset of data. \n",
    "\n",
    "# Find the indices of all unknown values in Aircraft Damage \n",
    "unk_indices = list(df.loc[df['Aircraft.damage'] == 'Unknown'].index)\n",
    "\n",
    "# Calculate the probability of observing each value in the current dataset\n",
    "damage_probs = df['Aircraft.damage'].value_counts()\n",
    "damage_probs = damage_probs.drop('Unknown')\n",
    "damage_probs = damage_probs / damage_probs.sum()\n",
    "\n",
    "# Randomly generate new values for Aircraft Damage based on probabilities observed in known dataset \n",
    "rand_damage = np.random.choice(list(damage_probs.index), size = len(unk_indices), p = list(damage_probs))\n",
    "\n",
    "# Create a new dataset with the new unknown values in Aircraft Damage replaced \n",
    "adj_df = df.copy()\n",
    "adj_df['Aircraft.damage'].iloc[unk_indices] = rand_damage"
   ]
  },
  {
   "cell_type": "code",
   "execution_count": null,
   "metadata": {},
   "outputs": [],
   "source": [
    "# Create a df for the damage index \n",
    "di_df = pd.DataFrame(columns = ['Damage_Index', 'Num.Incidents.Make', 'Uninjured_P', 'Injured_P', 'Died_P'], )\n",
    "\n",
    "# Get mean values for each Make of aircraft\n",
    "pop_means_df = adj_df.groupby('Make').mean(numeric_only=True)\n",
    "\n",
    "# Populate the damage index df using mean values for each Make of aircraft\n",
    "for make in popular_makes:\n",
    "    make_info = adj_df[adj_df['Make'] == make]['Aircraft.damage'].value_counts(normalize=True)\n",
    "\n",
    "    # Some makes do not have \n",
    "    if 'Minor' not in make_info.index:\n",
    "        make_info['Minor'] = 0\n",
    "\n",
    "    damage_index = (make_info['Destroyed'] * 4) + (make_info['Substantial'] * 2) + (make_info['Minor'] * 1)\n",
    "\n",
    "    # Add additional relevant info to damage index df \n",
    "    num_incidents = adj_df['Make'].value_counts()[make]\n",
    "    make_stats = list(pop_means_df.loc[make].reindex(['Percent.Uninjured', 'Percent.Injured', 'Percent.Died']))\n",
    "    di_df.loc[make] =[damage_index, num_incidents] + make_stats"
   ]
  },
  {
   "cell_type": "code",
   "execution_count": null,
   "metadata": {},
   "outputs": [],
   "source": [
    "# Adjust the damage index by penalizing Makes with too few datapoints (n) \n",
    "# All with makes with n < threshold are penalized \n",
    "\n",
    "threshold = 2000\n",
    "penalty_rate = 0.25\n",
    "di_df['Penalty'] = di_df['Num.Incidents.Make'].apply(lambda x: 1 + penalty_rate * np.log(threshold/x) if x < threshold else 1)\n",
    "di_df['Adj_Damage_Index'] = di_df['Damage_Index'] * di_df['Penalty'] \n",
    "di_df.sort_values(by = 'Adj_Damage_Index')"
   ]
  },
  {
   "cell_type": "code",
   "execution_count": null,
   "metadata": {},
   "outputs": [],
   "source": [
    "# Identify the top three makes based on the damage index \n",
    "top3makes = list(di_df.sort_values(by = 'Adj_Damage_Index').index[:3])\n",
    "print(top3makes)\n",
    "\n",
    "# Add new column to df indicating whether the incident involves a Make in the top 3\n",
    "df['DI.Top3'] = df['Make'].apply(lambda x: x in top3makes)"
   ]
  },
  {
   "cell_type": "code",
   "execution_count": null,
   "metadata": {},
   "outputs": [],
   "source": [
    "# Validate the damage index by plotting it against key metrics to observe relationships between the variables \n",
    "pd.plotting.scatter_matrix(di_df[['Damage_Index', 'Uninjured_P', 'Injured_P', 'Died_P']]);"
   ]
  },
  {
   "cell_type": "code",
   "execution_count": null,
   "metadata": {},
   "outputs": [],
   "source": [
    "# Re-generate plots and save PNG\n",
    "\n",
    "fig, axes = plt.subplots(1, 3, figsize=(15, 5))\n",
    "\n",
    "sns.scatterplot(x=di_df['Damage_Index'], y=di_df['Injured_P'], ax=axes[0])\n",
    "axes[0].set_title(\"Percent Injured by Damage Index\")\n",
    "axes[0].set_xlabel(\"Damage Index\")\n",
    "axes[0].set_ylabel(\"Percent Injured\")\n",
    "\n",
    "sns.scatterplot(x=di_df['Damage_Index'], y=di_df['Uninjured_P'], ax=axes[1])\n",
    "axes[1].set_title(\"Percent Uninjured by Damage Index\")\n",
    "axes[1].set_xlabel(\"Damage Index\")\n",
    "axes[1].set_ylabel(\"Percent Uninjured\")\n",
    "\n",
    "sns.scatterplot(x=di_df['Damage_Index'], y=di_df['Died_P'], ax=axes[2])\n",
    "axes[2].set_title(\"Percent Died by Damage Index\")\n",
    "axes[2].set_xlabel(\"Damage Index\")\n",
    "axes[2].set_ylabel(\"Percent Died\")\n",
    "\n",
    "if generate_pngs == 1:   \n",
    "    fig.savefig(\"figs/di_corrs.png\", bbox_inches = 'tight')"
   ]
  },
  {
   "cell_type": "code",
   "execution_count": null,
   "metadata": {},
   "outputs": [],
   "source": [
    "# Add damage index to df\n",
    "df = df.join(di_df, how='outer', on='Make')\n",
    "\n",
    "# Generate csv file of all data with damage indices\n",
    "if generate_csvs == 1:\n",
    "    df.to_csv('data/data_analyzed.csv', index_label = 'index')"
   ]
  },
  {
   "cell_type": "markdown",
   "metadata": {},
   "source": [
    "## Prepare Model Data for Performance Calculation"
   ]
  },
  {
   "cell_type": "markdown",
   "metadata": {},
   "source": [
    "Each of our top three Makes have low damage indices, however, the question still remains: when an aircraft is involved in an incident that results in damage, do the passengers leave the incident uninjured?\n",
    "\n",
    "Now that we have identified the top three Makes, we will further narrow down our list of aircrafts by selecting the Models that have the highest performance, as defined by the ratio of incidents where passengers had positive outcomes. \n",
    "\n",
    "For planes that had substantial damage or were destroyed, performance was marked as positive if there were no fatalities. For planes that had minor damage, performance was marked as positive if there were no fatalities or injuries.\n",
    "\n",
    "An overall performance score is generated by calculating the fraction of incidents that met the positive performance criteria over the total number of incidents for each Model."
   ]
  },
  {
   "cell_type": "code",
   "execution_count": null,
   "metadata": {},
   "outputs": [],
   "source": [
    "# Create a df that includes incidents from only the top Makes \n",
    "df_top_makes = df[df['Make'].apply(lambda x: x in top3makes)].reset_index(drop=True)"
   ]
  },
  {
   "cell_type": "code",
   "execution_count": null,
   "metadata": {},
   "outputs": [],
   "source": [
    "# Print a list of all Models within the top Makes for visual inspection\n",
    "for make in top3makes:\n",
    "    print(f\"{make}:\")\n",
    "    list_models = list(df[df['Make']==make]['Model'].unique())\n",
    "    print(f\"{list_models}\\n\")"
   ]
  },
  {
   "cell_type": "code",
   "execution_count": null,
   "metadata": {},
   "outputs": [],
   "source": [
    "# Remove extraneous strings observed in visual inspection\n",
    "to_replace = ['stearmane', 'stearman', 'boeing','probertsonstol','skywagon',\\\n",
    "               'kaerobat','psylane','citation','aerobat','hortonstol', 'rileysuper',\\\n",
    "               'aramvi','crileyturbinee','caravan','ector','skyhawk','turbocenturiont','undesignat']\n",
    "\n",
    "for string in to_replace:\n",
    "    df_top_makes['Model'] = df_top_makes['Model'].str.replace(string, '')"
   ]
  },
  {
   "cell_type": "code",
   "execution_count": null,
   "metadata": {},
   "outputs": [],
   "source": [
    "# If a particular Model has 20 or fewer incidents in our dataset, it will be difficult to make meaningful conclusions about it.\n",
    "# Therefore, we drop rows from rare Models here. \n",
    "\n",
    "rare_models = df_top_makes['Model'].value_counts()\n",
    "rare_models = rare_models[rare_models <= 20].index.tolist()\n",
    "\n",
    "drop_rows = df_top_makes.loc[df_top_makes['Model'].apply(lambda x: x in rare_models)].index\n",
    "df_top_makes = df_top_makes.drop(drop_rows).reset_index(drop=True)"
   ]
  },
  {
   "cell_type": "code",
   "execution_count": null,
   "metadata": {},
   "outputs": [],
   "source": [
    "# Re-examine models from the top three Makes \n",
    "for make in top3makes:\n",
    "    print(f\"{make}:\")\n",
    "    list_models = list(df_top_makes[df_top_makes['Make']==make]['Model'].unique())\n",
    "    print(f\"{list_models}\\n\")"
   ]
  },
  {
   "cell_type": "markdown",
   "metadata": {},
   "source": [
    "After removing extraneous strings and dropping rare Models, we still observe repeated Models (or variations of Models) in the data. Below, we further clean the Model column."
   ]
  },
  {
   "cell_type": "code",
   "execution_count": null,
   "metadata": {},
   "outputs": [],
   "source": [
    "# Clean Boeing \n",
    "def clean_boeing(model_str):\n",
    "\n",
    "    abr_str = model_str\n",
    "    \n",
    "    if model_str in ['dc982', 'md88', 'md82']:\n",
    "        abr_str = 'md80'\n",
    "\n",
    "    if model_str in ['dc1030', 'dc1010']:\n",
    "        abr_str = 'md10'\n",
    "\n",
    "    if model_str in ['dc982', 'dc931', 'dc951', 'dc932']:\n",
    "        abr_str = 'md9'\n",
    "    \n",
    "    if model_str in ['a75', 'a75n1', 'e75', 'b75n1', 'a75n1pt17', 'pt17']:\n",
    "        abr_str = 'm75'\n",
    "\n",
    "    if model_str.startswith('7'):\n",
    "        abr_str = model_str[:3]\n",
    "\n",
    "    return abr_str"
   ]
  },
  {
   "cell_type": "code",
   "execution_count": null,
   "metadata": {},
   "outputs": [],
   "source": [
    "# Clean Cessna\n",
    "def clean_cessna(x):\n",
    "    y = ''\n",
    "    for i in x:\n",
    "        if i.isdigit():\n",
    "            y += i\n",
    "    x = y\n",
    "    return x"
   ]
  },
  {
   "cell_type": "code",
   "execution_count": null,
   "metadata": {},
   "outputs": [],
   "source": [
    "# Clean Piper\n",
    "def clean_piper(x):\n",
    "    if len(x) > 3:\n",
    "        x = 'pa'+x[2:4]\n",
    "\n",
    "    if x == 'j3c':\n",
    "        x = 'j3'\n",
    "\n",
    "    if x == '180':\n",
    "        x = 'pa18'\n",
    "        \n",
    "    return x"
   ]
  },
  {
   "cell_type": "code",
   "execution_count": null,
   "metadata": {},
   "outputs": [],
   "source": [
    "# Combine Boeing, Cessna, and Piper cleaning functions into a single function and apply it to the df \n",
    "make_model_df = df_top_makes[['Make','Model']]\n",
    "make_model_df = make_model_df.drop_duplicates(keep='first')\n",
    "make_model_df\n",
    "\n",
    "def clean_top3(model_str): \n",
    "    make = make_model_df[make_model_df['Model'] == model_str]['Make'].values[0]\n",
    "\n",
    "    if make == 'Boeing':\n",
    "        return clean_boeing(model_str)\n",
    "    \n",
    "    if make == 'Cessna':\n",
    "        return clean_cessna(model_str)\n",
    "\n",
    "    if make == 'Piper':\n",
    "        return clean_piper(model_str)\n",
    "\n",
    "    if make == 'Robinson':\n",
    "        return clean_robinson(model_str)\n",
    "\n",
    "df_top_makes['Abr.Model'] = df_top_makes['Model'].apply(clean_top3)"
   ]
  },
  {
   "cell_type": "code",
   "execution_count": null,
   "metadata": {},
   "outputs": [],
   "source": [
    "# Re-examine models from the top3 makes \n",
    "for make in top3makes:\n",
    "    print(f\"{make}:\")\n",
    "    list_models = list(df_top_makes[df_top_makes['Make']==make]['Abr.Model'].unique())\n",
    "    print(f\"{list_models}\\n\")"
   ]
  },
  {
   "cell_type": "markdown",
   "metadata": {},
   "source": [
    "## Calculate Performance for Each Model Within Top Three Makes "
   ]
  },
  {
   "cell_type": "markdown",
   "metadata": {},
   "source": [
    "For planes that had substantial damage or were destroyed, performance was marked as positive if there were no fatalities. For planes that had minor damage, performance was marked as positive if there were no fatalities or injuries.\n",
    "\n",
    "An overall performance score is generated by calculating the fraction of incidents that met the positive performance criteria over the total number of incidents for each Model.\n",
    "\n",
    "Note that we only consider incidents after 1989 when evaluating performance. "
   ]
  },
  {
   "cell_type": "code",
   "execution_count": null,
   "metadata": {},
   "outputs": [],
   "source": [
    "# Overwrite main dataframe with info from only the top three Makes\n",
    "df = df_top_makes.copy()"
   ]
  },
  {
   "cell_type": "code",
   "execution_count": null,
   "metadata": {},
   "outputs": [],
   "source": [
    "# Subset the df to select for incidents that meet the positive performance criteria\n",
    "best_dest = df.loc[(df['Aircraft.damage'] == 'Destroyed') & (df['Percent.Died'] == 0) \n",
    "        & (df['Event.Year'] > 1989) & (df['Total.Passengers'] != 0)]\n",
    "\n",
    "best_subs = df.loc[(df['Aircraft.damage'] == 'Substantial') & (df['Percent.Died'] == 0) \n",
    "         & (df['Event.Year'] > 1989) & (df['Percent.Injured'] == 0) & (df['Total.Passengers'] != 0)]\n",
    "\n",
    "best_minor = df.loc[(df['Aircraft.damage'] == 'Minor') & (df['Percent.Died'] == 0) \n",
    "          & (df['Percent.Injured'] == 0) & (df['Event.Year'] > 1989) & (df['Total.Passengers'] != 0)]"
   ]
  },
  {
   "cell_type": "code",
   "execution_count": null,
   "metadata": {},
   "outputs": [],
   "source": [
    "# Calculate an overall performance score for each model by calculating \n",
    "# the fraction of incidents that met the positive performance criteria \n",
    "# divided by the total number of incidents for each model.\n",
    "\n",
    "d_d = best_dest['Abr.Model'].value_counts().to_dict()\n",
    "d_s = best_subs['Abr.Model'].value_counts().to_dict()\n",
    "d_m = best_minor['Abr.Model'].value_counts().to_dict()\n",
    "all_keys = set()\n",
    "all_keys.update(d_d.keys())\n",
    "all_keys.update(d_s.keys())\n",
    "all_keys.update(d_m.keys())\n",
    "r_d  = {}\n",
    "for key in all_keys:\n",
    "    r_d[key] = d_d.get(key, 0) + d_s.get(key, 0) + d_m.get(key, 0)\n",
    "result_d = {}\n",
    "for key in all_keys:\n",
    "    denominator = df['Abr.Model'].value_counts().to_dict().get(key, 1)\n",
    "       \n",
    "    if denominator != 0:\n",
    "        result_d[key] = r_d[key] / denominator\n",
    "    else:\n",
    "        result_d[key] = 0 "
   ]
  },
  {
   "cell_type": "code",
   "execution_count": null,
   "metadata": {},
   "outputs": [],
   "source": [
    "# Convert the performance dictionary into a pandas series \n",
    "model_performance = pd.Series(result_d)\n",
    "model_performance.index.name = 'Abr.Model'\n",
    "model_performance.name = 'Performance'\n",
    "model_performance"
   ]
  },
  {
   "cell_type": "code",
   "execution_count": null,
   "metadata": {},
   "outputs": [],
   "source": [
    "# Confirm there are no null values within the model performance series \n",
    "model_performance.isna().sum()"
   ]
  },
  {
   "cell_type": "code",
   "execution_count": null,
   "metadata": {},
   "outputs": [],
   "source": [
    "# Assemble Model means into a df\n",
    "model_stats = df.groupby('Abr.Model')[['Percent.Uninjured', 'Percent.Injured', 'Percent.Died']].mean(numeric_only=True)\n",
    "perf_df = model_stats.join(model_performance, how='left')\n",
    "perf_df.head()\n",
    "\n",
    "# Add performance measure to df\n",
    "df = df.merge(model_performance, how='left', on='Abr.Model')"
   ]
  },
  {
   "cell_type": "code",
   "execution_count": null,
   "metadata": {},
   "outputs": [],
   "source": [
    "# Validate the performance measure by plotting it against key metrics to observe relationships between the variables \n",
    "fig, axes = plt.subplots(1, 3, figsize=(15, 5))\n",
    "\n",
    "sns.scatterplot(x=perf_df['Performance'], y=perf_df['Percent.Injured'], ax=axes[0])\n",
    "axes[0].set_title(\"Percent Injured by Performance\")\n",
    "axes[0].set_xlabel(\"Performance\")\n",
    "axes[0].set_ylabel(\"Percent Injured\")\n",
    "\n",
    "sns.scatterplot(x=perf_df['Performance'], y=perf_df['Percent.Uninjured'], ax=axes[1])\n",
    "axes[1].set_title(\"Percent Uninjured by Performance\")\n",
    "axes[1].set_xlabel(\"Performance\")\n",
    "axes[1].set_ylabel(\"Percent Uninjured\")\n",
    "\n",
    "sns.scatterplot(x=perf_df['Performance'], y=perf_df['Percent.Died'], ax=axes[2])\n",
    "axes[2].set_title(\"Percent Died by Performance\")\n",
    "axes[2].set_xlabel(\"Performance\")\n",
    "axes[2].set_ylabel(\"Percent Died\")\n",
    "\n",
    "if generate_pngs == 1:   \n",
    "    fig.savefig(\"figs/perf_corrs.png\", bbox_inches = 'tight')"
   ]
  },
  {
   "cell_type": "code",
   "execution_count": null,
   "metadata": {},
   "outputs": [],
   "source": [
    "# Create a df with each model, make, it's performance score, it's corresponding make, and whether that make is top3 \n",
    "make_model = model_stats.reset_index()\n",
    "make_model = make_model.rename(columns={'index': 'Abr.Model'})\n",
    "make_model = make_model.merge(df.loc[:,['Make', 'Model', 'Abr.Model']], how='left',on='Abr.Model')\n",
    "make_model = make_model.merge(model_performance, how='left', on='Abr.Model')\n",
    "make_model = make_model.drop_duplicates(subset='Abr.Model', keep='first').reset_index(drop=True)\n",
    "make_model['Top3'] = make_model['Make'].apply(lambda x: x in top3makes)\n",
    "make_model"
   ]
  },
  {
   "cell_type": "code",
   "execution_count": null,
   "metadata": {},
   "outputs": [],
   "source": [
    "# Filter for the top three Models within the top three Makes \n",
    "top_make_model = make_model[make_model['Top3']==True]\n",
    "\n",
    "best_models = []\n",
    "\n",
    "for make in top3makes:\n",
    "    \n",
    "    # Filter for all Models within one Make \n",
    "    subset = top_make_model[top_make_model['Make'] == make]\n",
    "    \n",
    "    # Extract best 3 Models within one Make (based on performance) \n",
    "    subset = subset.sort_values(by='Performance', ascending = False)['Abr.Model'][:3]\n",
    "\n",
    "    best_models.extend(list(subset))\n",
    "\n",
    "print(best_models)"
   ]
  },
  {
   "cell_type": "code",
   "execution_count": null,
   "metadata": {},
   "outputs": [],
   "source": [
    "# Add a new column to the df indicating whether the incident involved a top model\n",
    "df['Top.Model'] = df['Abr.Model'].apply(lambda x: x in best_models)\n",
    "df.head()"
   ]
  },
  {
   "cell_type": "markdown",
   "metadata": {},
   "source": [
    "## Explore features of top aircrafts"
   ]
  },
  {
   "cell_type": "markdown",
   "metadata": {},
   "source": [
    "After identifying the top nine aircraft models, we followed-up with research to discover what the models have in common. We assembled this information into a csv file for further analysis and visualization. "
   ]
  },
  {
   "cell_type": "code",
   "execution_count": null,
   "metadata": {},
   "outputs": [],
   "source": [
    "# Import data of the top aircraft information \n",
    "ac_info = pd.read_csv('data/top_aircraft_info.csv')"
   ]
  },
  {
   "cell_type": "markdown",
   "metadata": {},
   "source": [
    "Our online research showed the majority of the models are light, general aviation airplanes. Below is a treeplot (generated with Tableau) that shows the distribution of aircraft types amongst the top models: \n",
    "\n",
    "<div style=\"text-align: center;\">\n",
    "<img src=\"imgs/top_model_categories.png\" width=\"700\"/>\n",
    "</div>"
   ]
  },
  {
   "cell_type": "markdown",
   "metadata": {},
   "source": [
    "We further explored the number of engines each aircraft has and the  passenger capacity of each aircraft. We plot this information on a parallel plot to highlight similarities and differences. "
   ]
  },
  {
   "cell_type": "code",
   "execution_count": null,
   "metadata": {},
   "outputs": [],
   "source": [
    "fig, ax = plt.subplots(figsize=(7,5))\n",
    "pd.plotting.parallel_coordinates(ac_info[['Make.Model', 'Engine.Num', 'Passenger.Capacity']], 'Make.Model', ax=ax)\n",
    "\n",
    "# 1. Move legend outside of the figure\n",
    "ax.legend(loc='upper left', bbox_to_anchor=(1, 1))\n",
    "\n",
    "# 2. Change x-axis labels\n",
    "xlabels = [\"Number of Engines\", \"Passenger Capacity\"]\n",
    "ax.set_title('Top Model Features')\n",
    "ax.set_xticklabels(xlabels)\n",
    "ax.set_ylim(bottom=0, top=16) \n",
    "\n",
    "plt.tight_layout()\n",
    "plt.show()\n",
    "\n",
    "if generate_pngs == 1:   \n",
    "    fig.savefig(\"figs/model_features.png\", bbox_inches = 'tight')"
   ]
  },
  {
   "cell_type": "markdown",
   "metadata": {},
   "source": [
    "The parallel plot shows that most (4) of the top models have 1 engine, which is consistent with their designation as light aircrafts. As these are predominately smaller aircrafts, the passenger capacity is on the lower range, with most aircrafts having a capacity of 6 or fewer. Note that the Boeing MD11 has three engines, and a passenger capacity (410) that is off the scale compared to the remaining aircrafts.  "
   ]
  },
  {
   "cell_type": "code",
   "execution_count": null,
   "metadata": {},
   "outputs": [],
   "source": [
    "# Save data from top models as a csv\n",
    "if generate_csvs == 1:\n",
    "    df.to_csv('data/top_data_analyzed.csv', index_label = 'index')"
   ]
  }
 ],
 "metadata": {
  "kernelspec": {
   "display_name": "Python 3",
   "language": "python",
   "name": "python3"
  },
  "language_info": {
   "codemirror_mode": {
    "name": "ipython",
    "version": 3
   },
   "file_extension": ".py",
   "mimetype": "text/x-python",
   "name": "python",
   "nbconvert_exporter": "python",
   "pygments_lexer": "ipython3",
   "version": "3.8.5"
  }
 },
 "nbformat": 4,
 "nbformat_minor": 4
}
