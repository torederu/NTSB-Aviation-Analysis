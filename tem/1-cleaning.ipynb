{
 "cells": [
  {
   "cell_type": "markdown",
   "metadata": {},
   "source": [
    "# Exploratory Analysis on Airplane Data"
   ]
  },
  {
   "cell_type": "markdown",
   "metadata": {},
   "source": [
    "### Business Problem\n",
    "\n",
    "Your company is expanding in to new industries to diversify its portfolio. Specifically, they are interested in purchasing and operating airplanes for commercial and private enterprises, but do not know anything about the potential risks of aircraft.\n",
    "\n",
    "You are charged with determining which aircraft are the lowest risk for the company to start this new business endeavor.\n",
    "\n",
    "You must then translate your findings into actionable insights that the head of the new aviation division can use to help decide which aircraft to purchase."
   ]
  },
  {
   "cell_type": "code",
   "execution_count": 1,
   "metadata": {},
   "outputs": [],
   "source": [
    "# Switch to determine whether running the notebook will generate new csvs (and overwrite previous versions) \n",
    "generate_csvs = 1"
   ]
  },
  {
   "cell_type": "code",
   "execution_count": 2,
   "metadata": {},
   "outputs": [],
   "source": [
    "#Import libraries\n",
    "import pandas as pd\n",
    "import warnings\n",
    "import seaborn as sns\n",
    "import matplotlib.pyplot as plt\n",
    "import numpy as np\n",
    "warnings.filterwarnings('ignore')"
   ]
  },
  {
   "cell_type": "markdown",
   "metadata": {},
   "source": [
    "## Preview the Available Data"
   ]
  },
  {
   "cell_type": "code",
   "execution_count": 3,
   "metadata": {},
   "outputs": [
    {
     "name": "stdout",
     "output_type": "stream",
     "text": [
      "Original shape: (90348, 31)\n",
      "Shape after dropping duplicate rows: (88958, 31)\n"
     ]
    },
    {
     "data": {
      "text/html": [
       "<div>\n",
       "<style scoped>\n",
       "    .dataframe tbody tr th:only-of-type {\n",
       "        vertical-align: middle;\n",
       "    }\n",
       "\n",
       "    .dataframe tbody tr th {\n",
       "        vertical-align: top;\n",
       "    }\n",
       "\n",
       "    .dataframe thead th {\n",
       "        text-align: right;\n",
       "    }\n",
       "</style>\n",
       "<table border=\"1\" class=\"dataframe\">\n",
       "  <thead>\n",
       "    <tr style=\"text-align: right;\">\n",
       "      <th></th>\n",
       "      <th>Event.Id</th>\n",
       "      <th>Investigation.Type</th>\n",
       "      <th>Accident.Number</th>\n",
       "      <th>Event.Date</th>\n",
       "      <th>Location</th>\n",
       "      <th>Country</th>\n",
       "      <th>Latitude</th>\n",
       "      <th>Longitude</th>\n",
       "      <th>Airport.Code</th>\n",
       "      <th>Airport.Name</th>\n",
       "      <th>...</th>\n",
       "      <th>Purpose.of.flight</th>\n",
       "      <th>Air.carrier</th>\n",
       "      <th>Total.Fatal.Injuries</th>\n",
       "      <th>Total.Serious.Injuries</th>\n",
       "      <th>Total.Minor.Injuries</th>\n",
       "      <th>Total.Uninjured</th>\n",
       "      <th>Weather.Condition</th>\n",
       "      <th>Broad.phase.of.flight</th>\n",
       "      <th>Report.Status</th>\n",
       "      <th>Publication.Date</th>\n",
       "    </tr>\n",
       "  </thead>\n",
       "  <tbody>\n",
       "    <tr>\n",
       "      <th>0</th>\n",
       "      <td>20001218X45444</td>\n",
       "      <td>Accident</td>\n",
       "      <td>SEA87LA080</td>\n",
       "      <td>1948-10-24</td>\n",
       "      <td>MOOSE CREEK, ID</td>\n",
       "      <td>United States</td>\n",
       "      <td>NaN</td>\n",
       "      <td>NaN</td>\n",
       "      <td>NaN</td>\n",
       "      <td>NaN</td>\n",
       "      <td>...</td>\n",
       "      <td>Personal</td>\n",
       "      <td>NaN</td>\n",
       "      <td>2.0</td>\n",
       "      <td>0.0</td>\n",
       "      <td>0.0</td>\n",
       "      <td>0.0</td>\n",
       "      <td>UNK</td>\n",
       "      <td>Cruise</td>\n",
       "      <td>Probable Cause</td>\n",
       "      <td>NaN</td>\n",
       "    </tr>\n",
       "    <tr>\n",
       "      <th>1</th>\n",
       "      <td>20001218X45447</td>\n",
       "      <td>Accident</td>\n",
       "      <td>LAX94LA336</td>\n",
       "      <td>1962-07-19</td>\n",
       "      <td>BRIDGEPORT, CA</td>\n",
       "      <td>United States</td>\n",
       "      <td>NaN</td>\n",
       "      <td>NaN</td>\n",
       "      <td>NaN</td>\n",
       "      <td>NaN</td>\n",
       "      <td>...</td>\n",
       "      <td>Personal</td>\n",
       "      <td>NaN</td>\n",
       "      <td>4.0</td>\n",
       "      <td>0.0</td>\n",
       "      <td>0.0</td>\n",
       "      <td>0.0</td>\n",
       "      <td>UNK</td>\n",
       "      <td>Unknown</td>\n",
       "      <td>Probable Cause</td>\n",
       "      <td>19-09-1996</td>\n",
       "    </tr>\n",
       "    <tr>\n",
       "      <th>2</th>\n",
       "      <td>20061025X01555</td>\n",
       "      <td>Accident</td>\n",
       "      <td>NYC07LA005</td>\n",
       "      <td>1974-08-30</td>\n",
       "      <td>Saltville, VA</td>\n",
       "      <td>United States</td>\n",
       "      <td>36.922223</td>\n",
       "      <td>-81.878056</td>\n",
       "      <td>NaN</td>\n",
       "      <td>NaN</td>\n",
       "      <td>...</td>\n",
       "      <td>Personal</td>\n",
       "      <td>NaN</td>\n",
       "      <td>3.0</td>\n",
       "      <td>NaN</td>\n",
       "      <td>NaN</td>\n",
       "      <td>NaN</td>\n",
       "      <td>IMC</td>\n",
       "      <td>Cruise</td>\n",
       "      <td>Probable Cause</td>\n",
       "      <td>26-02-2007</td>\n",
       "    </tr>\n",
       "    <tr>\n",
       "      <th>3</th>\n",
       "      <td>20001218X45448</td>\n",
       "      <td>Accident</td>\n",
       "      <td>LAX96LA321</td>\n",
       "      <td>1977-06-19</td>\n",
       "      <td>EUREKA, CA</td>\n",
       "      <td>United States</td>\n",
       "      <td>NaN</td>\n",
       "      <td>NaN</td>\n",
       "      <td>NaN</td>\n",
       "      <td>NaN</td>\n",
       "      <td>...</td>\n",
       "      <td>Personal</td>\n",
       "      <td>NaN</td>\n",
       "      <td>2.0</td>\n",
       "      <td>0.0</td>\n",
       "      <td>0.0</td>\n",
       "      <td>0.0</td>\n",
       "      <td>IMC</td>\n",
       "      <td>Cruise</td>\n",
       "      <td>Probable Cause</td>\n",
       "      <td>12-09-2000</td>\n",
       "    </tr>\n",
       "    <tr>\n",
       "      <th>4</th>\n",
       "      <td>20041105X01764</td>\n",
       "      <td>Accident</td>\n",
       "      <td>CHI79FA064</td>\n",
       "      <td>1979-08-02</td>\n",
       "      <td>Canton, OH</td>\n",
       "      <td>United States</td>\n",
       "      <td>NaN</td>\n",
       "      <td>NaN</td>\n",
       "      <td>NaN</td>\n",
       "      <td>NaN</td>\n",
       "      <td>...</td>\n",
       "      <td>Personal</td>\n",
       "      <td>NaN</td>\n",
       "      <td>1.0</td>\n",
       "      <td>2.0</td>\n",
       "      <td>NaN</td>\n",
       "      <td>0.0</td>\n",
       "      <td>VMC</td>\n",
       "      <td>Approach</td>\n",
       "      <td>Probable Cause</td>\n",
       "      <td>16-04-1980</td>\n",
       "    </tr>\n",
       "  </tbody>\n",
       "</table>\n",
       "<p>5 rows × 31 columns</p>\n",
       "</div>"
      ],
      "text/plain": [
       "         Event.Id Investigation.Type Accident.Number  Event.Date  \\\n",
       "0  20001218X45444           Accident      SEA87LA080  1948-10-24   \n",
       "1  20001218X45447           Accident      LAX94LA336  1962-07-19   \n",
       "2  20061025X01555           Accident      NYC07LA005  1974-08-30   \n",
       "3  20001218X45448           Accident      LAX96LA321  1977-06-19   \n",
       "4  20041105X01764           Accident      CHI79FA064  1979-08-02   \n",
       "\n",
       "          Location        Country   Latitude  Longitude Airport.Code  \\\n",
       "0  MOOSE CREEK, ID  United States        NaN        NaN          NaN   \n",
       "1   BRIDGEPORT, CA  United States        NaN        NaN          NaN   \n",
       "2    Saltville, VA  United States  36.922223 -81.878056          NaN   \n",
       "3       EUREKA, CA  United States        NaN        NaN          NaN   \n",
       "4       Canton, OH  United States        NaN        NaN          NaN   \n",
       "\n",
       "  Airport.Name  ... Purpose.of.flight Air.carrier Total.Fatal.Injuries  \\\n",
       "0          NaN  ...          Personal         NaN                  2.0   \n",
       "1          NaN  ...          Personal         NaN                  4.0   \n",
       "2          NaN  ...          Personal         NaN                  3.0   \n",
       "3          NaN  ...          Personal         NaN                  2.0   \n",
       "4          NaN  ...          Personal         NaN                  1.0   \n",
       "\n",
       "  Total.Serious.Injuries Total.Minor.Injuries Total.Uninjured  \\\n",
       "0                    0.0                  0.0             0.0   \n",
       "1                    0.0                  0.0             0.0   \n",
       "2                    NaN                  NaN             NaN   \n",
       "3                    0.0                  0.0             0.0   \n",
       "4                    2.0                  NaN             0.0   \n",
       "\n",
       "  Weather.Condition  Broad.phase.of.flight   Report.Status Publication.Date  \n",
       "0               UNK                 Cruise  Probable Cause              NaN  \n",
       "1               UNK                Unknown  Probable Cause       19-09-1996  \n",
       "2               IMC                 Cruise  Probable Cause       26-02-2007  \n",
       "3               IMC                 Cruise  Probable Cause       12-09-2000  \n",
       "4               VMC               Approach  Probable Cause       16-04-1980  \n",
       "\n",
       "[5 rows x 31 columns]"
      ]
     },
     "execution_count": 3,
     "metadata": {},
     "output_type": "execute_result"
    }
   ],
   "source": [
    "#This will be the main DataFrame used to analyze our business problem\n",
    "df = pd.read_csv('data/Aviation_Data.csv')\n",
    "print(f\"Original shape: {df.shape}\")\n",
    "df.drop_duplicates(keep='first', inplace=True)\n",
    "\n",
    "print(f\"Shape after dropping duplicate rows: {df.shape}\")\n",
    "df.head()"
   ]
  },
  {
   "cell_type": "code",
   "execution_count": 4,
   "metadata": {},
   "outputs": [
    {
     "data": {
      "text/html": [
       "<div>\n",
       "<style scoped>\n",
       "    .dataframe tbody tr th:only-of-type {\n",
       "        vertical-align: middle;\n",
       "    }\n",
       "\n",
       "    .dataframe tbody tr th {\n",
       "        vertical-align: top;\n",
       "    }\n",
       "\n",
       "    .dataframe thead th {\n",
       "        text-align: right;\n",
       "    }\n",
       "</style>\n",
       "<table border=\"1\" class=\"dataframe\">\n",
       "  <thead>\n",
       "    <tr style=\"text-align: right;\">\n",
       "      <th></th>\n",
       "      <th>Event.Date</th>\n",
       "      <th>Location</th>\n",
       "      <th>Country</th>\n",
       "      <th>Aircraft.damage</th>\n",
       "      <th>Make</th>\n",
       "      <th>Model</th>\n",
       "      <th>Amateur.Built</th>\n",
       "      <th>Number.of.Engines</th>\n",
       "      <th>Engine.Type</th>\n",
       "      <th>Purpose.of.flight</th>\n",
       "      <th>Total.Fatal.Injuries</th>\n",
       "      <th>Total.Serious.Injuries</th>\n",
       "      <th>Total.Minor.Injuries</th>\n",
       "      <th>Total.Uninjured</th>\n",
       "      <th>Weather.Condition</th>\n",
       "      <th>Aircraft.Category</th>\n",
       "    </tr>\n",
       "  </thead>\n",
       "  <tbody>\n",
       "    <tr>\n",
       "      <th>0</th>\n",
       "      <td>1948-10-24</td>\n",
       "      <td>MOOSE CREEK, ID</td>\n",
       "      <td>United States</td>\n",
       "      <td>Destroyed</td>\n",
       "      <td>Stinson</td>\n",
       "      <td>108-3</td>\n",
       "      <td>No</td>\n",
       "      <td>1.0</td>\n",
       "      <td>Reciprocating</td>\n",
       "      <td>Personal</td>\n",
       "      <td>2.0</td>\n",
       "      <td>0.0</td>\n",
       "      <td>0.0</td>\n",
       "      <td>0.0</td>\n",
       "      <td>UNK</td>\n",
       "      <td>NaN</td>\n",
       "    </tr>\n",
       "    <tr>\n",
       "      <th>1</th>\n",
       "      <td>1962-07-19</td>\n",
       "      <td>BRIDGEPORT, CA</td>\n",
       "      <td>United States</td>\n",
       "      <td>Destroyed</td>\n",
       "      <td>Piper</td>\n",
       "      <td>PA24-180</td>\n",
       "      <td>No</td>\n",
       "      <td>1.0</td>\n",
       "      <td>Reciprocating</td>\n",
       "      <td>Personal</td>\n",
       "      <td>4.0</td>\n",
       "      <td>0.0</td>\n",
       "      <td>0.0</td>\n",
       "      <td>0.0</td>\n",
       "      <td>UNK</td>\n",
       "      <td>NaN</td>\n",
       "    </tr>\n",
       "    <tr>\n",
       "      <th>2</th>\n",
       "      <td>1974-08-30</td>\n",
       "      <td>Saltville, VA</td>\n",
       "      <td>United States</td>\n",
       "      <td>Destroyed</td>\n",
       "      <td>Cessna</td>\n",
       "      <td>172M</td>\n",
       "      <td>No</td>\n",
       "      <td>1.0</td>\n",
       "      <td>Reciprocating</td>\n",
       "      <td>Personal</td>\n",
       "      <td>3.0</td>\n",
       "      <td>NaN</td>\n",
       "      <td>NaN</td>\n",
       "      <td>NaN</td>\n",
       "      <td>IMC</td>\n",
       "      <td>NaN</td>\n",
       "    </tr>\n",
       "    <tr>\n",
       "      <th>3</th>\n",
       "      <td>1977-06-19</td>\n",
       "      <td>EUREKA, CA</td>\n",
       "      <td>United States</td>\n",
       "      <td>Destroyed</td>\n",
       "      <td>Rockwell</td>\n",
       "      <td>112</td>\n",
       "      <td>No</td>\n",
       "      <td>1.0</td>\n",
       "      <td>Reciprocating</td>\n",
       "      <td>Personal</td>\n",
       "      <td>2.0</td>\n",
       "      <td>0.0</td>\n",
       "      <td>0.0</td>\n",
       "      <td>0.0</td>\n",
       "      <td>IMC</td>\n",
       "      <td>NaN</td>\n",
       "    </tr>\n",
       "    <tr>\n",
       "      <th>4</th>\n",
       "      <td>1979-08-02</td>\n",
       "      <td>Canton, OH</td>\n",
       "      <td>United States</td>\n",
       "      <td>Destroyed</td>\n",
       "      <td>Cessna</td>\n",
       "      <td>501</td>\n",
       "      <td>No</td>\n",
       "      <td>NaN</td>\n",
       "      <td>NaN</td>\n",
       "      <td>Personal</td>\n",
       "      <td>1.0</td>\n",
       "      <td>2.0</td>\n",
       "      <td>NaN</td>\n",
       "      <td>0.0</td>\n",
       "      <td>VMC</td>\n",
       "      <td>NaN</td>\n",
       "    </tr>\n",
       "  </tbody>\n",
       "</table>\n",
       "</div>"
      ],
      "text/plain": [
       "   Event.Date         Location        Country Aircraft.damage      Make  \\\n",
       "0  1948-10-24  MOOSE CREEK, ID  United States       Destroyed   Stinson   \n",
       "1  1962-07-19   BRIDGEPORT, CA  United States       Destroyed     Piper   \n",
       "2  1974-08-30    Saltville, VA  United States       Destroyed    Cessna   \n",
       "3  1977-06-19       EUREKA, CA  United States       Destroyed  Rockwell   \n",
       "4  1979-08-02       Canton, OH  United States       Destroyed    Cessna   \n",
       "\n",
       "      Model Amateur.Built  Number.of.Engines    Engine.Type Purpose.of.flight  \\\n",
       "0     108-3            No                1.0  Reciprocating          Personal   \n",
       "1  PA24-180            No                1.0  Reciprocating          Personal   \n",
       "2      172M            No                1.0  Reciprocating          Personal   \n",
       "3       112            No                1.0  Reciprocating          Personal   \n",
       "4       501            No                NaN            NaN          Personal   \n",
       "\n",
       "   Total.Fatal.Injuries  Total.Serious.Injuries  Total.Minor.Injuries  \\\n",
       "0                   2.0                     0.0                   0.0   \n",
       "1                   4.0                     0.0                   0.0   \n",
       "2                   3.0                     NaN                   NaN   \n",
       "3                   2.0                     0.0                   0.0   \n",
       "4                   1.0                     2.0                   NaN   \n",
       "\n",
       "   Total.Uninjured Weather.Condition Aircraft.Category  \n",
       "0              0.0               UNK               NaN  \n",
       "1              0.0               UNK               NaN  \n",
       "2              NaN               IMC               NaN  \n",
       "3              0.0               IMC               NaN  \n",
       "4              0.0               VMC               NaN  "
      ]
     },
     "execution_count": 4,
     "metadata": {},
     "output_type": "execute_result"
    }
   ],
   "source": [
    "#drop columns with more than 20% nans \n",
    "nan_cols = list(df.loc[:,df.isna().sum()/len(df) > .2].columns) \n",
    "\n",
    "#drop uninformative columns\n",
    "nan_cols.extend(['Event.Id', 'Investigation.Type', 'Accident.Number', 'Injury.Severity', 'Registration.Number', 'Report.Status', 'Publication.Date'])\n",
    "\n",
    "# get a list of columns to keep\n",
    "non_nan_cols = [x for x in df.columns if x not in nan_cols]\n",
    "\n",
    "# re-add the aircraft category column for later cleaning\n",
    "non_nan_cols.append('Aircraft.Category')\n",
    "                    \n",
    "# remove columns from df\n",
    "df = df[non_nan_cols].copy()\n",
    "df.head()"
   ]
  },
  {
   "cell_type": "markdown",
   "metadata": {},
   "source": [
    "## Remove all aircrafts that are not airplanes or helicopters"
   ]
  },
  {
   "cell_type": "code",
   "execution_count": 5,
   "metadata": {},
   "outputs": [
    {
     "data": {
      "text/plain": [
       "Aircraft.Category\n",
       "Unknown       56687\n",
       "Airplane      27617\n",
       "Helicopter     3440\n",
       "Name: count, dtype: int64"
      ]
     },
     "execution_count": 5,
     "metadata": {},
     "output_type": "execute_result"
    }
   ],
   "source": [
    "# Within the Aircraft Category variable, replace nan with \"Unknown\" and change \"UNK\" to \"Unknown\" \n",
    "df['Aircraft.Category'].fillna('Unknown', inplace = True)\n",
    "df['Aircraft.Category'].replace({'UNK':'Unknown'}, inplace = True)\n",
    "\n",
    "# Filter the df for airplanes, helicopters, and aircrafts we are unsure of \n",
    "df = df[(df['Aircraft.Category'] == 'Airplane') | (df['Aircraft.Category'] == 'Helicopter') | (df['Aircraft.Category'] == 'Unknown')]\n",
    "\n",
    "# Display value counts of remaining aircrafts\n",
    "df['Aircraft.Category'].value_counts(dropna=False)"
   ]
  },
  {
   "cell_type": "markdown",
   "metadata": {},
   "source": [
    "Since there are many aircrafts that have an unknown aircraft category, we will use engine number and type to further filter for airplanes and helicopters."
   ]
  },
  {
   "cell_type": "code",
   "execution_count": 6,
   "metadata": {},
   "outputs": [
    {
     "data": {
      "text/html": [
       "<div>\n",
       "<style scoped>\n",
       "    .dataframe tbody tr th:only-of-type {\n",
       "        vertical-align: middle;\n",
       "    }\n",
       "\n",
       "    .dataframe tbody tr th {\n",
       "        vertical-align: top;\n",
       "    }\n",
       "\n",
       "    .dataframe thead th {\n",
       "        text-align: right;\n",
       "    }\n",
       "</style>\n",
       "<table border=\"1\" class=\"dataframe\">\n",
       "  <thead>\n",
       "    <tr style=\"text-align: right;\">\n",
       "      <th></th>\n",
       "      <th>Event.Date</th>\n",
       "      <th>Location</th>\n",
       "      <th>Country</th>\n",
       "      <th>Aircraft.damage</th>\n",
       "      <th>Make</th>\n",
       "      <th>Model</th>\n",
       "      <th>Amateur.Built</th>\n",
       "      <th>Number.of.Engines</th>\n",
       "      <th>Engine.Type</th>\n",
       "      <th>Purpose.of.flight</th>\n",
       "      <th>Total.Fatal.Injuries</th>\n",
       "      <th>Total.Serious.Injuries</th>\n",
       "      <th>Total.Minor.Injuries</th>\n",
       "      <th>Total.Uninjured</th>\n",
       "      <th>Weather.Condition</th>\n",
       "      <th>Aircraft.Category</th>\n",
       "    </tr>\n",
       "  </thead>\n",
       "  <tbody>\n",
       "    <tr>\n",
       "      <th>22648</th>\n",
       "      <td>1989-03-31</td>\n",
       "      <td>GREAT HARBOR, Bahamas</td>\n",
       "      <td>Bahamas</td>\n",
       "      <td>Destroyed</td>\n",
       "      <td>Cessna</td>\n",
       "      <td>421B</td>\n",
       "      <td>No</td>\n",
       "      <td>0.0</td>\n",
       "      <td>Reciprocating</td>\n",
       "      <td>Unknown</td>\n",
       "      <td>1.0</td>\n",
       "      <td>0.0</td>\n",
       "      <td>0.0</td>\n",
       "      <td>1.0</td>\n",
       "      <td>VMC</td>\n",
       "      <td>Unknown</td>\n",
       "    </tr>\n",
       "    <tr>\n",
       "      <th>77176</th>\n",
       "      <td>2015-06-14</td>\n",
       "      <td>Pell City, AL</td>\n",
       "      <td>United States</td>\n",
       "      <td>Substantial</td>\n",
       "      <td>WEATHERLY</td>\n",
       "      <td>201B</td>\n",
       "      <td>No</td>\n",
       "      <td>0.0</td>\n",
       "      <td>Reciprocating</td>\n",
       "      <td>Aerial Application</td>\n",
       "      <td>0.0</td>\n",
       "      <td>0.0</td>\n",
       "      <td>0.0</td>\n",
       "      <td>1.0</td>\n",
       "      <td>VMC</td>\n",
       "      <td>Airplane</td>\n",
       "    </tr>\n",
       "  </tbody>\n",
       "</table>\n",
       "</div>"
      ],
      "text/plain": [
       "       Event.Date               Location        Country Aircraft.damage  \\\n",
       "22648  1989-03-31  GREAT HARBOR, Bahamas        Bahamas       Destroyed   \n",
       "77176  2015-06-14          Pell City, AL  United States     Substantial   \n",
       "\n",
       "            Make Model Amateur.Built  Number.of.Engines    Engine.Type  \\\n",
       "22648     Cessna  421B            No                0.0  Reciprocating   \n",
       "77176  WEATHERLY  201B            No                0.0  Reciprocating   \n",
       "\n",
       "        Purpose.of.flight  Total.Fatal.Injuries  Total.Serious.Injuries  \\\n",
       "22648             Unknown                   1.0                     0.0   \n",
       "77176  Aerial Application                   0.0                     0.0   \n",
       "\n",
       "       Total.Minor.Injuries  Total.Uninjured Weather.Condition  \\\n",
       "22648                   0.0              1.0               VMC   \n",
       "77176                   0.0              1.0               VMC   \n",
       "\n",
       "      Aircraft.Category  \n",
       "22648           Unknown  \n",
       "77176          Airplane  "
      ]
     },
     "execution_count": 6,
     "metadata": {},
     "output_type": "execute_result"
    }
   ],
   "source": [
    "# Check if Number.of.Engines = 0 corresponds to no Engine.Type\n",
    "df[(df['Number.of.Engines']==0) & ((df['Engine.Type']!='NONE') & (df['Engine.Type'].notna())\\\n",
    "                                   & (df['Engine.Type'] != 'Unknown'))]"
   ]
  },
  {
   "cell_type": "code",
   "execution_count": 7,
   "metadata": {},
   "outputs": [],
   "source": [
    "# Replace Number.of.Engines = 0 with Number.of.Engines = Unknown if there is a recorded Engine.Type\n",
    "replace_indx = list(df[(df['Number.of.Engines']==0) \n",
    "                    & ((df['Engine.Type']!='NONE') \n",
    "                       & (df['Engine.Type'].notna()) \n",
    "                       & (df['Engine.Type'] != 'Unknown'))].index)\n",
    "\n",
    "df.loc[replace_indx, 'Number.of.Engines'] = 'Unknown'"
   ]
  },
  {
   "cell_type": "code",
   "execution_count": 8,
   "metadata": {},
   "outputs": [
    {
     "name": "stdout",
     "output_type": "stream",
     "text": [
      "Dropped 726 rows.\n"
     ]
    }
   ],
   "source": [
    "# Drop all aircrafts with no engines \n",
    "drop_rows = df.loc[(df['Number.of.Engines']==0)].index\n",
    "df = df.drop(drop_rows).reset_index(drop=True)\n",
    "\n",
    "print(f\"Dropped {len(drop_rows)} rows.\")"
   ]
  },
  {
   "cell_type": "code",
   "execution_count": 9,
   "metadata": {},
   "outputs": [],
   "source": [
    "df['Engine.Type'].fillna('UNK', inplace = True)\n",
    "df['Engine.Type'].replace({'UNK':'Unknown'}, inplace = True)\n",
    "\n",
    "# Fill nan with Unknown \n",
    "df['Number.of.Engines'].fillna('Unknown', inplace = True)"
   ]
  },
  {
   "cell_type": "code",
   "execution_count": 10,
   "metadata": {},
   "outputs": [],
   "source": [
    "# Drop aircrafts with engines uncommon for airplanes and helicopters \n",
    "drop_engines = ['NONE', 'LR', 'Hybrid Rocket']\n",
    "df = df[df['Engine.Type'].apply(lambda x: x not in drop_engines)]"
   ]
  },
  {
   "cell_type": "code",
   "execution_count": 11,
   "metadata": {},
   "outputs": [
    {
     "name": "stdout",
     "output_type": "stream",
     "text": [
      "Dropped 5242 rows.\n"
     ]
    }
   ],
   "source": [
    "# Amongst remaining rows, drop cells with an unknown number of engines AND unknown engine type.\n",
    "# We cannot identify whether these are airplanes, helicopters, or other.\n",
    "\n",
    "drop_rows = df.loc[(df['Number.of.Engines']=='Unknown') & (df['Engine.Type']=='Unknown')].index\n",
    "df = df.drop(drop_rows).reset_index(drop=True)\n",
    "\n",
    "print(f\"Dropped {len(drop_rows)} rows.\")"
   ]
  },
  {
   "cell_type": "code",
   "execution_count": 12,
   "metadata": {},
   "outputs": [
    {
     "data": {
      "text/plain": [
       "Number.of.Engines\n",
       "1.0        69043\n",
       "2.0        11070\n",
       "Unknown      750\n",
       "3.0          482\n",
       "4.0          429\n",
       "8.0            1\n",
       "6.0            1\n",
       "Name: count, dtype: int64"
      ]
     },
     "execution_count": 12,
     "metadata": {},
     "output_type": "execute_result"
    }
   ],
   "source": [
    "df['Number.of.Engines'].value_counts(dropna=False)"
   ]
  },
  {
   "cell_type": "code",
   "execution_count": 13,
   "metadata": {},
   "outputs": [
    {
     "data": {
      "text/plain": [
       "Engine.Type\n",
       "Reciprocating      69042\n",
       "Turbo Shaft         3609\n",
       "Turbo Prop          3391\n",
       "Unknown             2534\n",
       "Turbo Fan           2481\n",
       "Turbo Jet            700\n",
       "Geared Turbofan       12\n",
       "Electric               7\n",
       "Name: count, dtype: int64"
      ]
     },
     "execution_count": 13,
     "metadata": {},
     "output_type": "execute_result"
    }
   ],
   "source": [
    "df['Engine.Type'].value_counts(dropna=False)"
   ]
  },
  {
   "cell_type": "code",
   "execution_count": 14,
   "metadata": {},
   "outputs": [
    {
     "name": "stdout",
     "output_type": "stream",
     "text": [
      "Shape after dropping all but airplanes and helicopters: (81776, 16)\n"
     ]
    }
   ],
   "source": [
    "print(f\"Shape after dropping all but airplanes and helicopters: {df.shape}\")"
   ]
  },
  {
   "cell_type": "markdown",
   "metadata": {},
   "source": [
    "## Data Cleaning"
   ]
  },
  {
   "cell_type": "code",
   "execution_count": 15,
   "metadata": {},
   "outputs": [],
   "source": [
    "# Check if any of the injury columns have true values. If any do, fill nans with 0s. \n",
    "# If all columns are nans, assume the data was not logged and keep them as nans. \n",
    "injury_cols = ['Total.Fatal.Injuries', 'Total.Serious.Injuries', 'Total.Minor.Injuries', 'Total.Uninjured']\n",
    "injury_data_exists = df[injury_cols].apply(lambda col: any(col), axis = 1)\n",
    "\n",
    "for col in injury_cols:\n",
    "    df.loc[injury_data_exists & df[col].isna(), col] = 0"
   ]
  },
  {
   "cell_type": "markdown",
   "metadata": {},
   "source": [
    "We needed to have information about the amount of passengers that were on each incident. We used the information in the four columns related to injuries to extract it.\n",
    "\n",
    "Aditionally we created percentages for the passengers that: Got injured, ended uninjured, and died."
   ]
  },
  {
   "cell_type": "code",
   "execution_count": 16,
   "metadata": {},
   "outputs": [],
   "source": [
    "#Obtaining the total of passengers\n",
    "#Make note of dividing by zero situation in pecert.Injured and Percent.Died / Number of Passengers\n",
    "\n",
    "df['Total.Passengers'] = df['Total.Fatal.Injuries'] + df['Total.Serious.Injuries'] + df['Total.Minor.Injuries']+ df['Total.Uninjured']\n",
    "df['Total.Injured'] = df['Total.Fatal.Injuries'] + df['Total.Serious.Injuries'] + df['Total.Minor.Injuries']\n",
    "\n",
    "#Creating Percentages for every kind of situation.\n",
    "# Note that we had to account for division by 0 where the plane had no passengers.\n",
    "\n",
    "df['Percent.Injured'] = (df['Total.Injured'] / df['Total.Passengers']) * 100\n",
    "df['Percent.Uninjured'] = (df['Total.Uninjured'] / df['Total.Passengers']) * 100\n",
    "df['Percent.Died'] = (df['Total.Fatal.Injuries'] / df['Total.Passengers']) * 100\n",
    "df.loc[df['Total.Passengers'] == 0, ['Percent.Injured','Percent.Died','Percent.Uninjured']] = 0"
   ]
  },
  {
   "cell_type": "code",
   "execution_count": 18,
   "metadata": {},
   "outputs": [
    {
     "data": {
      "text/html": [
       "<div>\n",
       "<style scoped>\n",
       "    .dataframe tbody tr th:only-of-type {\n",
       "        vertical-align: middle;\n",
       "    }\n",
       "\n",
       "    .dataframe tbody tr th {\n",
       "        vertical-align: top;\n",
       "    }\n",
       "\n",
       "    .dataframe thead th {\n",
       "        text-align: right;\n",
       "    }\n",
       "</style>\n",
       "<table border=\"1\" class=\"dataframe\">\n",
       "  <thead>\n",
       "    <tr style=\"text-align: right;\">\n",
       "      <th></th>\n",
       "      <th>Event.Date</th>\n",
       "      <th>Location</th>\n",
       "      <th>Country</th>\n",
       "      <th>Aircraft.damage</th>\n",
       "      <th>Make</th>\n",
       "      <th>Model</th>\n",
       "      <th>Number.of.Engines</th>\n",
       "      <th>Engine.Type</th>\n",
       "      <th>Purpose.of.flight</th>\n",
       "      <th>Total.Fatal.Injuries</th>\n",
       "      <th>Total.Serious.Injuries</th>\n",
       "      <th>Total.Minor.Injuries</th>\n",
       "      <th>Total.Uninjured</th>\n",
       "      <th>Weather.Condition</th>\n",
       "      <th>Aircraft.Category</th>\n",
       "      <th>Total.Passengers</th>\n",
       "      <th>Total.Injured</th>\n",
       "      <th>Percent.Injured</th>\n",
       "      <th>Percent.Uninjured</th>\n",
       "      <th>Percent.Died</th>\n",
       "    </tr>\n",
       "  </thead>\n",
       "  <tbody>\n",
       "    <tr>\n",
       "      <th>0</th>\n",
       "      <td>1948-10-24</td>\n",
       "      <td>MOOSE CREEK, ID</td>\n",
       "      <td>United States</td>\n",
       "      <td>Destroyed</td>\n",
       "      <td>Stinson</td>\n",
       "      <td>108-3</td>\n",
       "      <td>1.0</td>\n",
       "      <td>Reciprocating</td>\n",
       "      <td>Personal</td>\n",
       "      <td>2.0</td>\n",
       "      <td>0.0</td>\n",
       "      <td>0.0</td>\n",
       "      <td>0.0</td>\n",
       "      <td>UNK</td>\n",
       "      <td>Unknown</td>\n",
       "      <td>2.0</td>\n",
       "      <td>2.0</td>\n",
       "      <td>100.000000</td>\n",
       "      <td>0.000000</td>\n",
       "      <td>100.0</td>\n",
       "    </tr>\n",
       "    <tr>\n",
       "      <th>1</th>\n",
       "      <td>1962-07-19</td>\n",
       "      <td>BRIDGEPORT, CA</td>\n",
       "      <td>United States</td>\n",
       "      <td>Destroyed</td>\n",
       "      <td>Piper</td>\n",
       "      <td>PA24-180</td>\n",
       "      <td>1.0</td>\n",
       "      <td>Reciprocating</td>\n",
       "      <td>Personal</td>\n",
       "      <td>4.0</td>\n",
       "      <td>0.0</td>\n",
       "      <td>0.0</td>\n",
       "      <td>0.0</td>\n",
       "      <td>UNK</td>\n",
       "      <td>Unknown</td>\n",
       "      <td>4.0</td>\n",
       "      <td>4.0</td>\n",
       "      <td>100.000000</td>\n",
       "      <td>0.000000</td>\n",
       "      <td>100.0</td>\n",
       "    </tr>\n",
       "    <tr>\n",
       "      <th>2</th>\n",
       "      <td>1974-08-30</td>\n",
       "      <td>Saltville, VA</td>\n",
       "      <td>United States</td>\n",
       "      <td>Destroyed</td>\n",
       "      <td>Cessna</td>\n",
       "      <td>172M</td>\n",
       "      <td>1.0</td>\n",
       "      <td>Reciprocating</td>\n",
       "      <td>Personal</td>\n",
       "      <td>3.0</td>\n",
       "      <td>0.0</td>\n",
       "      <td>0.0</td>\n",
       "      <td>0.0</td>\n",
       "      <td>IMC</td>\n",
       "      <td>Unknown</td>\n",
       "      <td>3.0</td>\n",
       "      <td>3.0</td>\n",
       "      <td>100.000000</td>\n",
       "      <td>0.000000</td>\n",
       "      <td>100.0</td>\n",
       "    </tr>\n",
       "    <tr>\n",
       "      <th>3</th>\n",
       "      <td>1977-06-19</td>\n",
       "      <td>EUREKA, CA</td>\n",
       "      <td>United States</td>\n",
       "      <td>Destroyed</td>\n",
       "      <td>Rockwell</td>\n",
       "      <td>112</td>\n",
       "      <td>1.0</td>\n",
       "      <td>Reciprocating</td>\n",
       "      <td>Personal</td>\n",
       "      <td>2.0</td>\n",
       "      <td>0.0</td>\n",
       "      <td>0.0</td>\n",
       "      <td>0.0</td>\n",
       "      <td>IMC</td>\n",
       "      <td>Unknown</td>\n",
       "      <td>2.0</td>\n",
       "      <td>2.0</td>\n",
       "      <td>100.000000</td>\n",
       "      <td>0.000000</td>\n",
       "      <td>100.0</td>\n",
       "    </tr>\n",
       "    <tr>\n",
       "      <th>4</th>\n",
       "      <td>1979-09-17</td>\n",
       "      <td>BOSTON, MA</td>\n",
       "      <td>United States</td>\n",
       "      <td>Substantial</td>\n",
       "      <td>Mcdonnell Douglas</td>\n",
       "      <td>DC9</td>\n",
       "      <td>2.0</td>\n",
       "      <td>Turbo Fan</td>\n",
       "      <td>NaN</td>\n",
       "      <td>0.0</td>\n",
       "      <td>0.0</td>\n",
       "      <td>1.0</td>\n",
       "      <td>44.0</td>\n",
       "      <td>VMC</td>\n",
       "      <td>Airplane</td>\n",
       "      <td>45.0</td>\n",
       "      <td>1.0</td>\n",
       "      <td>2.222222</td>\n",
       "      <td>97.777778</td>\n",
       "      <td>0.0</td>\n",
       "    </tr>\n",
       "  </tbody>\n",
       "</table>\n",
       "</div>"
      ],
      "text/plain": [
       "   Event.Date         Location        Country Aircraft.damage  \\\n",
       "0  1948-10-24  MOOSE CREEK, ID  United States       Destroyed   \n",
       "1  1962-07-19   BRIDGEPORT, CA  United States       Destroyed   \n",
       "2  1974-08-30    Saltville, VA  United States       Destroyed   \n",
       "3  1977-06-19       EUREKA, CA  United States       Destroyed   \n",
       "4  1979-09-17       BOSTON, MA  United States     Substantial   \n",
       "\n",
       "                Make     Model Number.of.Engines    Engine.Type  \\\n",
       "0            Stinson     108-3               1.0  Reciprocating   \n",
       "1              Piper  PA24-180               1.0  Reciprocating   \n",
       "2             Cessna      172M               1.0  Reciprocating   \n",
       "3           Rockwell       112               1.0  Reciprocating   \n",
       "4  Mcdonnell Douglas       DC9               2.0      Turbo Fan   \n",
       "\n",
       "  Purpose.of.flight  Total.Fatal.Injuries  Total.Serious.Injuries  \\\n",
       "0          Personal                   2.0                     0.0   \n",
       "1          Personal                   4.0                     0.0   \n",
       "2          Personal                   3.0                     0.0   \n",
       "3          Personal                   2.0                     0.0   \n",
       "4               NaN                   0.0                     0.0   \n",
       "\n",
       "   Total.Minor.Injuries  Total.Uninjured Weather.Condition Aircraft.Category  \\\n",
       "0                   0.0              0.0               UNK           Unknown   \n",
       "1                   0.0              0.0               UNK           Unknown   \n",
       "2                   0.0              0.0               IMC           Unknown   \n",
       "3                   0.0              0.0               IMC           Unknown   \n",
       "4                   1.0             44.0               VMC          Airplane   \n",
       "\n",
       "   Total.Passengers  Total.Injured  Percent.Injured  Percent.Uninjured  \\\n",
       "0               2.0            2.0       100.000000           0.000000   \n",
       "1               4.0            4.0       100.000000           0.000000   \n",
       "2               3.0            3.0       100.000000           0.000000   \n",
       "3               2.0            2.0       100.000000           0.000000   \n",
       "4              45.0            1.0         2.222222          97.777778   \n",
       "\n",
       "   Percent.Died  \n",
       "0         100.0  \n",
       "1         100.0  \n",
       "2         100.0  \n",
       "3         100.0  \n",
       "4           0.0  "
      ]
     },
     "execution_count": 18,
     "metadata": {},
     "output_type": "execute_result"
    }
   ],
   "source": [
    "# We decided to remove everything that is not Amateur Built.\n",
    "# Remove rows where Amateur.Built is Yes or NaN, then remove Amateur.Built column\n",
    "\n",
    "df = df.drop(df.loc[(df['Amateur.Built']=='Yes') |( df['Amateur.Built'].isna())].index)\n",
    "df.reset_index(drop = True, inplace = True)\n",
    "df.drop(columns = 'Amateur.Built', inplace = True)\n",
    "df.head()"
   ]
  },
  {
   "cell_type": "code",
   "execution_count": 19,
   "metadata": {},
   "outputs": [
    {
     "data": {
      "text/plain": [
       "Weather.Condition\n",
       "Visual Meteorological Conditions          65672\n",
       "Instrumental Meteorological Conditions     5596\n",
       "Unknown                                    2446\n",
       "Name: count, dtype: int64"
      ]
     },
     "execution_count": 19,
     "metadata": {},
     "output_type": "execute_result"
    }
   ],
   "source": [
    "# Clean Weather Condition\n",
    "#Change the notation \"IMC\" and \"VMC\" to have a clear understanding of each condition.\n",
    "df['Weather.Condition'].replace({'Unk':'Unknown','UNK':'Unknown','VMC':'Visual Meteorological Conditions',\\\n",
    "                                 'IMC':'Instrumental Meteorological Conditions'}, inplace = True)\n",
    "df['Weather.Condition'].fillna('Unknown', inplace = True)\n",
    "df['Weather.Condition'].value_counts(dropna=False)"
   ]
  },
  {
   "cell_type": "code",
   "execution_count": 20,
   "metadata": {},
   "outputs": [
    {
     "data": {
      "text/plain": [
       "Aircraft.Category\n",
       "Unknown       48550\n",
       "Airplane      22301\n",
       "Helicopter     2863\n",
       "Name: count, dtype: int64"
      ]
     },
     "execution_count": 20,
     "metadata": {},
     "output_type": "execute_result"
    }
   ],
   "source": [
    "df['Aircraft.Category'].value_counts(dropna=False)"
   ]
  },
  {
   "cell_type": "code",
   "execution_count": 21,
   "metadata": {},
   "outputs": [
    {
     "data": {
      "text/plain": [
       "Aircraft.damage\n",
       "Substantial    54757\n",
       "Destroyed      14862\n",
       "Minor           2131\n",
       "Unknown         1964\n",
       "Name: count, dtype: int64"
      ]
     },
     "execution_count": 21,
     "metadata": {},
     "output_type": "execute_result"
    }
   ],
   "source": [
    "# Replacing 'NaN' values in Aircraft Damage\n",
    "df['Aircraft.damage'].fillna('Unknown', inplace = True)\n",
    "df['Aircraft.damage'].value_counts(dropna = False)"
   ]
  },
  {
   "cell_type": "code",
   "execution_count": 22,
   "metadata": {},
   "outputs": [],
   "source": [
    "#Transform the Event Date into three separate Date columns that specify day, month and year of the incident.\n",
    "#Dropping 'Event.Date' once the columns are created:\n",
    "df['Event.Date'] = pd.to_datetime(df['Event.Date'])\n",
    "df['Event.Day'] = df['Event.Date'].map(lambda x: x.day)\n",
    "df['Event.Month'] = df['Event.Date'].map(lambda x: x.month)\n",
    "df['Event.Month.Name'] = df['Event.Date'].map(lambda x: x.month_name())\n",
    "df['Event.Year'] = df['Event.Date'].map(lambda x: x.year)\n",
    "df.drop(['Event.Date'], axis=1, inplace=True)"
   ]
  },
  {
   "cell_type": "markdown",
   "metadata": {},
   "source": [
    "### Working with the location\n",
    "\n",
    "We decided to keep data from every country, so we could have more data to analyze the performance of the airplanes.\n",
    "\n",
    "But, since we're not interested in the locations outside of the US, we rename all of the other countries \"Foreign Country\" to make the classification process easier.\n",
    "\n",
    "For the Location Column, we just decided to kept the code for the corresponding State. All the ocurrences that were either in a foreign country or Unknown will be categorized as \"Unknown/Foreign Location\""
   ]
  },
  {
   "cell_type": "code",
   "execution_count": 23,
   "metadata": {},
   "outputs": [],
   "source": [
    "#Grouping all the Countries outside of the US as \"Foreign Country\"\n",
    "df.loc[df['Country'] != 'United States', 'Country'] = 'Foreign Country'"
   ]
  },
  {
   "cell_type": "code",
   "execution_count": 24,
   "metadata": {},
   "outputs": [],
   "source": [
    "#Filling the Null Values with \"Unknown\" the the Location Column\n",
    "df['Location'] = df['Location'].fillna('Unknown')\n",
    "\n",
    "# Adjusting the Column so it shows code of the corresponding State, if it's Unknown or outside of the US, label accordingly\n",
    "df['Location'] = df['Location'].apply(lambda location: location.split(', ')[-1] if \\\n",
    "                                      len(location.split(', ')) > 1 and len(location.split(', ')[-1]) == 2 else \\\n",
    "                                      'Unknown/Foreign Location')"
   ]
  },
  {
   "cell_type": "code",
   "execution_count": 25,
   "metadata": {},
   "outputs": [],
   "source": [
    "#Cleaning the 'Make' Column\n",
    "#Create the list 'characters_to_remove' so we can drop any puctuation sign that can make our name differ.\n",
    "characters_to_remove = ['(', ')', ',', '.', '%', '?','-']\n",
    "# Fill 'NaN' values with Unknown.\n",
    "df['Make'] = df['Make'].str.title().fillna('Unknown')\n",
    "df['Make'] = df['Make'].map(lambda x: ''.join(char for char in x if char not in characters_to_remove))\n",
    "\n",
    "#Based on further analysis, we found different names which certain variations and added words.\n",
    "# 'names_var' dictionary is a way to unify names that have many variatios\n",
    "\n",
    "names_var = {'Boeing': 'Boeing', 'Cirrus':'Cirrus','Airbus':'Airbus','Douglas':'Boeing', \\\n",
    "             'Air Tractor':'Air Tractor','Embraer':'Embraer','Bombardier':'Bombardier'}\n",
    "for key, value in names_var.items():\n",
    "    df.loc[df['Make'].str.contains(key), 'Make'] = value\n",
    "\n",
    "df['Make'].loc[df['Make'].str.contains('Robinson Helicopter Company|Robinson Helicopter', case=False)] = 'Robinson'\n",
    "    \n",
    "#Eliminating all the rows which 'Make' involves anything helicopter related, since we're analyzing just airplanes.\n",
    "#df = df[~df['Make'].str.contains('helicopter|copter|robinson', case=False)]\n",
    "\n",
    "#Since there are many 'Makes' with a really low count of incidences, we keep just the top 50.\n",
    "top_50_makes = df['Make'].value_counts().index[:50]\n",
    "df = df[df['Make'].isin(top_50_makes)]"
   ]
  },
  {
   "cell_type": "code",
   "execution_count": 26,
   "metadata": {},
   "outputs": [],
   "source": [
    "#Cleaning the 'Model' Column\n",
    "df['Model'] = df['Model'].str.title().fillna('Unknown')\n",
    "characters_to_remove = ['(', ')', '/', ' ', '-']\n",
    "df['Model'] = df['Model'].map(lambda x: ''.join(char for char in x if char not in characters_to_remove))\n",
    "df['Model'] = df['Model'].map(lambda x: x.lower())"
   ]
  },
  {
   "cell_type": "code",
   "execution_count": 27,
   "metadata": {},
   "outputs": [],
   "source": [
    "#Replacing NaN values for 'Unknown in 'Purpose of flight':\n",
    "df['Purpose.of.flight'].fillna('Unknown', inplace=True)"
   ]
  },
  {
   "cell_type": "code",
   "execution_count": 28,
   "metadata": {},
   "outputs": [],
   "source": [
    "if generate_csvs == 1:   \n",
    "    df.to_csv('data/data_clean.csv', index_label = 'index')"
   ]
  }
 ],
 "metadata": {
  "kernelspec": {
   "display_name": "Python 3",
   "language": "python",
   "name": "python3"
  },
  "language_info": {
   "codemirror_mode": {
    "name": "ipython",
    "version": 3
   },
   "file_extension": ".py",
   "mimetype": "text/x-python",
   "name": "python",
   "nbconvert_exporter": "python",
   "pygments_lexer": "ipython3",
   "version": "3.8.5"
  }
 },
 "nbformat": 4,
 "nbformat_minor": 4
}
